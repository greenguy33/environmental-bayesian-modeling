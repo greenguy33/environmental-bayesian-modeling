{
 "cells": [
  {
   "cell_type": "code",
   "execution_count": 1,
   "id": "0dbc448d-ccc9-40ef-969c-05a16590832d",
   "metadata": {},
   "outputs": [
    {
     "name": "stderr",
     "output_type": "stream",
     "text": [
      "WARNING (pytensor.tensor.blas): Using NumPy C-API based implementation for BLAS functions.\n"
     ]
    }
   ],
   "source": [
    "import csv\n",
    "import os\n",
    "import pymc as pm\n",
    "from pymc import do, observe\n",
    "import pandas as pd\n",
    "import numpy as np\n",
    "import arviz as az\n",
    "from sklearn.preprocessing import StandardScaler, MinMaxScaler, OrdinalEncoder\n",
    "from pytensor import tensor as pt\n",
    "import pickle as pkl\n",
    "import matplotlib.pyplot as plt\n",
    "import scipy.stats as stats\n",
    "import seaborn as sns\n",
    "import itertools as it\n",
    "import country_converter as cc\n",
    "import math\n",
    "import random"
   ]
  },
  {
   "cell_type": "code",
   "execution_count": 2,
   "id": "c7e8c0b9-df20-4d61-a046-3b2ff71f9c19",
   "metadata": {},
   "outputs": [],
   "source": [
    "data = pd.read_csv(\"../data/ortiz-bobea/data2/regdata_preferred_case.csv\")\n",
    "data_len = len(data.fd_tmean)"
   ]
  },
  {
   "cell_type": "markdown",
   "id": "9ad527a5-b263-4991-9b08-818042f2d40a",
   "metadata": {},
   "source": [
    "# Ortiz-bobea regression formula: \n",
    "# fd_log_tfp ~ fd_tmean + fd_tmean_sq + fd_prcp + fd_prcp_sq"
   ]
  },
  {
   "cell_type": "markdown",
   "id": "b9589bab-6c6e-4e9f-aa67-0e40db76dcd8",
   "metadata": {},
   "source": [
    "# Build model"
   ]
  },
  {
   "cell_type": "code",
   "execution_count": 3,
   "id": "0c93724f-580e-4d81-b69f-4949888000df",
   "metadata": {},
   "outputs": [],
   "source": [
    "# year and country fixed effect coefficient matrices\n",
    "year_mult_mat = [np.zeros(data_len) for year in set(data.year)]\n",
    "country_mult_mat = [np.zeros(data_len) for country in set(data.ISO3)]\n",
    "country_index = -1\n",
    "curr_country = \"\"\n",
    "for row_index, row in enumerate(data.itertuples()):\n",
    "    if row.ISO3 != curr_country:\n",
    "        country_index += 1\n",
    "        curr_country = row.ISO3\n",
    "    year_index = row.year - 1962\n",
    "    country_mult_mat[country_index][row_index] = 1\n",
    "    year_mult_mat[year_index][row_index] = 1"
   ]
  },
  {
   "cell_type": "code",
   "execution_count": 9,
   "id": "906ce586-f3ce-43d8-820d-625c58e6ed72",
   "metadata": {},
   "outputs": [
    {
     "name": "stdout",
     "output_type": "stream",
     "text": [
      "(9255,)\n",
      "(9255,)\n",
      "(9255,)\n",
      "(9255,)\n"
     ]
    }
   ],
   "source": [
    "with pm.Model() as model:\n",
    "\n",
    "    fd_temp_prior = pm.Normal(\"fd_temp_prior\", np.mean(data.fd_tmean), np.std(data.fd_tmean))\n",
    "    fd_temp_std = pm.HalfNormal(\"fd_temp_std\", 10)\n",
    "    # fd_temp_posterior = pm.Normal(\"fd_temp_posterior\", fd_temp_prior, fd_temp_std, shape=(data_len))\n",
    "    fd_temp_posterior = pm.Normal(\"fd_temp_posterior\", fd_temp_prior, fd_temp_std, observed=data.fd_tmean)\n",
    "\n",
    "    fd_sq_temp_prior = pm.Normal(\"fd_sq_temp_prior\", np.mean(data.fd_tmean_sq), np.std(data.fd_tmean_sq))\n",
    "    fd_sq_temp_std = pm.HalfNormal(\"fd_sq_temp_std\", 10)\n",
    "    # fd_sq_temp_posterior = pm.Normal(\"fd_sq_temp_posterior\", fd_sq_temp_prior, fd_sq_temp_std, shape=(data_len))\n",
    "    fd_sq_temp_posterior = pm.Normal(\"fd_sq_temp_posterior\", fd_sq_temp_prior, fd_sq_temp_std, observed=data.fd_tmean_sq)\n",
    "\n",
    "    fd_precip_prior = pm.Normal(\"fd_precip_prior\", np.mean(data.fd_prcp), np.std(data.fd_prcp))\n",
    "    fd_precip_std = pm.HalfNormal(\"fd_precip_std\", 10)\n",
    "    # fd_precip_posterior = pm.Normal(\"fd_precip_posterior\", fd_precip_prior, fd_precip_std, shape=(data_len))\n",
    "    fd_precip_posterior = pm.Normal(\"fd_precip_posterior\", fd_precip_prior, fd_precip_std, observed=data.fd_prcp)\n",
    "\n",
    "    fd_sq_precip_prior = pm.Normal(\"fd_sq_precip_prior\", np.mean(data.fd_prcp_sq), np.std(data.fd_prcp_sq))\n",
    "    fd_sq_precip_std = pm.HalfNormal(\"fd_sq_precip_std\", 10)\n",
    "    # fd_sq_precip_posterior = pm.Normal(\"fd_sq_precip_posterior\", fd_sq_precip_prior, fd_sq_precip_std, shape=(data_len))\n",
    "    fd_sq_precip_posterior = pm.Normal(\"fd_sq_precip_posterior\", fd_sq_precip_prior, fd_sq_precip_std, observed=data.fd_prcp_sq)\n",
    "\n",
    "    tfp_intercept = pm.Normal('tfp_intercept',0,10)\n",
    "    fd_temp_tfp_coef = pm.Normal('fd_temp_tfp_coef',0,10)\n",
    "    fd_sq_temp_tfp_coef = pm.Normal('fd_sq_temp_tfp_coef',0,10)\n",
    "    fd_precip_tfp_coef = pm.Normal(\"fd_precip_tfp_coef\",0,10)\n",
    "    fd_sq_precip_tfp_coef = pm.Normal(\"fd_sq_precip_tfp_coef\",0,10)\n",
    "\n",
    "    year_coefs = pt.expand_dims(pm.Normal(\"year_coefs\", 0, 10, shape=(len(set(data.year)))),axis=1)\n",
    "    year_fixed_effects = pm.Deterministic(\"year_fixed_effects\",pt.sum((year_coefs*year_mult_mat),axis=0))\n",
    "\n",
    "    country_coefs = pt.expand_dims(pm.Normal(\"country_coefs\", 0, 10, shape=(len(set(data.ISO3)))),axis=1)\n",
    "    country_fixed_effects = pm.Deterministic(\"country_fixed_effects\",pt.sum((country_coefs*country_mult_mat),axis=0))\n",
    "\n",
    "    print(country_fixed_effects.eval().shape)\n",
    "    print(year_fixed_effects.eval().shape)\n",
    "    \n",
    "    tfp_prior = pm.Deterministic(\n",
    "        \"tfp_prior\",\n",
    "        tfp_intercept +\n",
    "        (fd_temp_tfp_coef * fd_temp_posterior) +\n",
    "        (fd_sq_temp_tfp_coef * fd_sq_temp_posterior) +\n",
    "        (fd_precip_tfp_coef * fd_precip_posterior) +\n",
    "        (fd_sq_precip_tfp_coef * fd_sq_precip_posterior) +\n",
    "        year_fixed_effects +\n",
    "        country_fixed_effects\n",
    "    )\n",
    "    \n",
    "    tfp_std = pm.HalfNormal('tfp_std', sigma=10)\n",
    "    # tfp_posterior = pm.Normal('tfp_posterior', mu=tfp_prior, sigma=tfp_std, shape=(data_len))\n",
    "    tfp_posterior = pm.Normal('tfp_posterior', mu=tfp_prior, sigma=tfp_std, observed=data.fd_log_tfp)\n",
    "\n",
    "    # prior = pm.sample_prior_predictive()\n",
    "    # trace = pm.sample()\n",
    "    # posterior = pm.sample_posterior_predictive(trace, extend_inferencedata=True)"
   ]
  },
  {
   "cell_type": "markdown",
   "id": "1cf42662-9073-4fd4-8b9f-dfd900919068",
   "metadata": {},
   "source": [
    "# Add observed data to model and sample"
   ]
  },
  {
   "cell_type": "code",
   "execution_count": 19,
   "id": "bda6aa9b-472a-4c62-bed8-dacf9f52ef69",
   "metadata": {},
   "outputs": [
    {
     "name": "stderr",
     "output_type": "stream",
     "text": [
      "Sampling: [fd_precip_posterior, fd_precip_prior, fd_precip_std, fd_precip_tfp_coef, fd_sq_precip_posterior, fd_sq_precip_prior, fd_sq_precip_std, fd_sq_precip_tfp_coef, fd_sq_temp_posterior, fd_sq_temp_prior, fd_sq_temp_std, fd_sq_temp_tfp_coef, fd_temp_posterior, fd_temp_prior, fd_temp_std, fd_temp_tfp_coef, tfp_intercept, tfp_posterior, tfp_std]\n",
      "Auto-assigning NUTS sampler...\n",
      "Initializing NUTS using jitter+adapt_diag...\n",
      "Multiprocess sampling (4 chains in 4 jobs)\n",
      "NUTS: [fd_temp_prior, fd_temp_std, fd_sq_temp_prior, fd_sq_temp_std, fd_precip_prior, fd_precip_std, fd_sq_precip_prior, fd_sq_precip_std, tfp_intercept, fd_temp_tfp_coef, fd_sq_temp_tfp_coef, fd_precip_tfp_coef, fd_sq_precip_tfp_coef, tfp_std]\n"
     ]
    },
    {
     "data": {
      "text/html": [
       "\n",
       "<style>\n",
       "    /* Turns off some styling */\n",
       "    progress {\n",
       "        /* gets rid of default border in Firefox and Opera. */\n",
       "        border: none;\n",
       "        /* Needs to be in here for Safari polyfill so background images work as expected. */\n",
       "        background-size: auto;\n",
       "    }\n",
       "    progress:not([value]), progress:not([value])::-webkit-progress-bar {\n",
       "        background: repeating-linear-gradient(45deg, #7e7e7e, #7e7e7e 10px, #5c5c5c 10px, #5c5c5c 20px);\n",
       "    }\n",
       "    .progress-bar-interrupted, .progress-bar-interrupted::-webkit-progress-bar {\n",
       "        background: #F44336;\n",
       "    }\n",
       "</style>\n"
      ],
      "text/plain": [
       "<IPython.core.display.HTML object>"
      ]
     },
     "metadata": {},
     "output_type": "display_data"
    },
    {
     "data": {
      "text/html": [
       "\n",
       "    <div>\n",
       "      <progress value='8000' class='' max='8000' style='width:300px; height:20px; vertical-align: middle;'></progress>\n",
       "      100.00% [8000/8000 02:47&lt;00:00 Sampling 4 chains, 0 divergences]\n",
       "    </div>\n",
       "    "
      ],
      "text/plain": [
       "<IPython.core.display.HTML object>"
      ]
     },
     "metadata": {},
     "output_type": "display_data"
    },
    {
     "name": "stderr",
     "output_type": "stream",
     "text": [
      "Sampling 4 chains for 1_000 tune and 1_000 draw iterations (4_000 + 4_000 draws total) took 199 seconds.\n",
      "Sampling: [fd_precip_posterior, fd_sq_precip_posterior, fd_sq_temp_posterior, fd_temp_posterior, tfp_posterior]\n"
     ]
    },
    {
     "data": {
      "text/html": [
       "\n",
       "<style>\n",
       "    /* Turns off some styling */\n",
       "    progress {\n",
       "        /* gets rid of default border in Firefox and Opera. */\n",
       "        border: none;\n",
       "        /* Needs to be in here for Safari polyfill so background images work as expected. */\n",
       "        background-size: auto;\n",
       "    }\n",
       "    progress:not([value]), progress:not([value])::-webkit-progress-bar {\n",
       "        background: repeating-linear-gradient(45deg, #7e7e7e, #7e7e7e 10px, #5c5c5c 10px, #5c5c5c 20px);\n",
       "    }\n",
       "    .progress-bar-interrupted, .progress-bar-interrupted::-webkit-progress-bar {\n",
       "        background: #F44336;\n",
       "    }\n",
       "</style>\n"
      ],
      "text/plain": [
       "<IPython.core.display.HTML object>"
      ]
     },
     "metadata": {},
     "output_type": "display_data"
    },
    {
     "data": {
      "text/html": [
       "\n",
       "    <div>\n",
       "      <progress value='4000' class='' max='4000' style='width:300px; height:20px; vertical-align: middle;'></progress>\n",
       "      100.00% [4000/4000 00:01&lt;00:00]\n",
       "    </div>\n",
       "    "
      ],
      "text/plain": [
       "<IPython.core.display.HTML object>"
      ]
     },
     "metadata": {},
     "output_type": "display_data"
    }
   ],
   "source": [
    "observed_model = observe(model, {\n",
    "    \"fd_temp_posterior\":data.fd_tmean,\n",
    "    \"fd_sq_temp_posterior\":data.fd_tmean_sq,\n",
    "    \"fd_precip_posterior\":data.fd_prcp,\n",
    "    \"fd_sq_precip_posterior\":data.fd_prcp_sq,\n",
    "    \"tfp_posterior\":data.fd_log_tfp\n",
    "})\n",
    "\n",
    "with observed_model:\n",
    "    prior = pm.sample_prior_predictive()\n",
    "    trace = pm.sample()\n",
    "    posterior = pm.sample_posterior_predictive(trace, extend_inferencedata=True)\n",
    "\n",
    "with open ('../models/ortiz-bobea-reproduction-year-country-fixed-effects.pkl', 'wb') as buff:\n",
    "    pkl.dump({\n",
    "        \"prior\":prior,\n",
    "        \"trace\":trace,\n",
    "        \"posterior\":posterior\n",
    "    },buff)"
   ]
  },
  {
   "cell_type": "markdown",
   "id": "f3772369-b6b8-4851-a362-d5ff658ef67d",
   "metadata": {},
   "source": [
    "# Estimate historical anthropogenic effect on TFP"
   ]
  },
  {
   "cell_type": "code",
   "execution_count": 3,
   "id": "02f0ec69-c604-4fab-813c-dbd28f9e0003",
   "metadata": {},
   "outputs": [],
   "source": [
    "trace = pd.read_pickle('../models/ortiz-bobea-reproduction-year-country-fixed-effects.pkl')[\"trace\"]\n",
    "# trace = pd.read_pickle('../models/ortiz-bobea-reproduction.pkl')[\"trace\"]"
   ]
  },
  {
   "cell_type": "code",
   "execution_count": 14,
   "id": "35675939-6825-46dc-aea1-9fa9554b9688",
   "metadata": {},
   "outputs": [
    {
     "name": "stdout",
     "output_type": "stream",
     "text": [
      "-0.006519371207706483 -4.6465060074284566e-05 0.0001818307200354313 -1.8185374491776674e-07\n"
     ]
    }
   ],
   "source": [
    "coef1 = np.mean(trace.posterior.fd_temp_tfp_coef.data)\n",
    "coef2 = np.mean(trace.posterior.fd_sq_temp_tfp_coef.data)\n",
    "coef3 = np.mean(trace.posterior.fd_precip_tfp_coef.data)\n",
    "coef4 = np.mean(trace.posterior.fd_sq_precip_tfp_coef.data)\n",
    "print(coef1, coef2, coef3, coef4)"
   ]
  },
  {
   "cell_type": "code",
   "execution_count": 5,
   "id": "1a3edde6-1f48-43dd-89dd-53752e6a042b",
   "metadata": {},
   "outputs": [],
   "source": [
    "gcms = {\n",
    "    \"can_esm_gcm\" : pd.read_csv(\"../data/ortiz-bobea/climate_model_output/can_esm.csv\").iloc[[-1]].values[0][2:],\n",
    "    \"cnrm_gcm\" : pd.read_csv(\"../data/ortiz-bobea/climate_model_output/cnrm.csv\").iloc[[-1]].values[0][2:],\n",
    "    \"had_gem_gcm\" : pd.read_csv(\"../data/ortiz-bobea/climate_model_output/had_gem.csv\").iloc[[-1]].values[0][2:],\n",
    "    \"ipsl_gcm\" : pd.read_csv(\"../data/ortiz-bobea/climate_model_output/ipsl.csv\").iloc[[-1]].values[0][2:],\n",
    "    \"miroc_gcm\" : pd.read_csv(\"../data/ortiz-bobea/climate_model_output/miroc.csv\").iloc[[-1]].values[0][2:],\n",
    "    \"mriesm_gcm\" : pd.read_csv(\"../data/ortiz-bobea/climate_model_output/mriesm.csv\").iloc[[-1]].values[0][2:],\n",
    "    \"res_bcc_gcm\" : pd.read_csv(\"../data/ortiz-bobea/climate_model_output/res_bcc.csv\").iloc[[-1]].values[0][2:]\n",
    "}"
   ]
  },
  {
   "cell_type": "code",
   "execution_count": 6,
   "id": "e95efe2c-77db-457b-bd52-b6df566ef5a3",
   "metadata": {},
   "outputs": [
    {
     "name": "stdout",
     "output_type": "stream",
     "text": [
      "-0.33370947804754547\n",
      "0.1761996176468353\n"
     ]
    }
   ],
   "source": [
    "gcm_sample = random.choices(list(gcms.keys()), k=2000)\n",
    "bootstrap_sample = random.choices(list(range(500)), k=2000)\n",
    "mean_res = []\n",
    "for gcm in gcm_sample:\n",
    "    for bootstrap in bootstrap_sample:\n",
    "        mean_res.append(gcms[gcm][bootstrap])\n",
    "print(np.mean(mean_res))\n",
    "print(np.std(mean_res))"
   ]
  },
  {
   "cell_type": "code",
   "execution_count": 7,
   "id": "fe55d928-9638-4af4-8ab1-a598a8ff7b5b",
   "metadata": {},
   "outputs": [],
   "source": [
    "# Green months\n",
    "green_months = {}\n",
    "green_month_data = pd.read_csv(\"../data/ortiz-bobea/data2/ndvi_co/peak_bottom_ndvi_month_country.csv\")\n",
    "for row in green_month_data.itertuples():\n",
    "    peak = row[5]\n",
    "    season = (peak-2,peak+2)\n",
    "    if season[0] < 1:\n",
    "        season = (season[0] + 12, season[1])\n",
    "    if season[1] > 12:\n",
    "        season = (season[0], season[1] - 12)\n",
    "    green_months[row.ISO3] = season"
   ]
  },
  {
   "cell_type": "code",
   "execution_count": 8,
   "id": "81ba0af6-25d8-4b00-b2b9-44d0bf72a3ea",
   "metadata": {},
   "outputs": [],
   "source": [
    "# Revenue\n",
    "revenue_data = pd.read_csv(\"../data/ortiz-bobea/data/TFP_USDA/revenue_shares.csv\")\n",
    "country_weights = {}\n",
    "for row in revenue_data.itertuples():\n",
    "    country_weights[row[3]] = np.mean(row[5:10])\n",
    "weight_sum = sum(list(country_weights.values()))\n",
    "for country, val in country_weights.items():\n",
    "    country_weights[country] = val/weight_sum"
   ]
  },
  {
   "cell_type": "code",
   "execution_count": 85,
   "id": "cddc20b0-89ce-4158-a118-127455eda5dc",
   "metadata": {},
   "outputs": [],
   "source": [
    "# Historical climate means\n",
    "country_climate_means = {}\n",
    "country_1961_means = {}\n",
    "ccm_file = pd.read_csv(\"../data/ortiz-bobea/data2/country_climate_means.csv\")\n",
    "for row in ccm_file.itertuples():\n",
    "    country_climate_means[row[2]] = {\"mean_temp\":row[3], \"mean_prcp\":row[4]}\n",
    "c1961_file = pd.read_csv(\"../data/ortiz-bobea/data2/country_climate_1961.csv\")\n",
    "for row in c1961_file.itertuples():\n",
    "    country_1961_means[row[2]] = {\"mean_temp\":row[6],\"mean_prcp\":row[4]}"
   ]
  },
  {
   "cell_type": "code",
   "execution_count": 38,
   "id": "4f58a697-6b17-4a31-a3e6-b7c9b4ffc64e",
   "metadata": {},
   "outputs": [
    {
     "name": "stderr",
     "output_type": "stream",
     "text": [
      "/home/hayden_freedman/pymc_dev.venv/lib/python3.10/site-packages/numpy/core/fromnumeric.py:3504: RuntimeWarning: Mean of empty slice.\n",
      "  return _methods._mean(a, axis=axis, dtype=dtype,\n",
      "/home/hayden_freedman/pymc_dev.venv/lib/python3.10/site-packages/numpy/core/_methods.py:129: RuntimeWarning: invalid value encountered in scalar divide\n",
      "  ret = ret.dtype.type(ret / rcount)\n"
     ]
    }
   ],
   "source": [
    "hist_data = pd.read_csv(\"../data/ortiz-bobea/data2/CMIP6_co/historical_BCC-CSM2-MR_1948-2020_cropland.csv\")\n",
    "hist_nat_data = pd.read_csv(\"../data/ortiz-bobea/data2/CMIP6_co/hist-nat_BCC-CSM2-MR_1948-2020_cropland.csv\")\n",
    "\n",
    "hist_temp, hist_nat_temp, hist_prcp, hist_nat_prcp = {key:[] for key in list(set(data.ISO3))}, {key:[] for key in list(set(data.ISO3))}, {key:[] for key in list(set(data.ISO3))}, {key:[] for key in list(set(data.ISO3))}\n",
    "\n",
    "for year in set(data.year):\n",
    "    for country in set(data.ISO3):\n",
    "\n",
    "        hist_rows = hist_data.loc[(hist_data[\"year\"] == year) & (hist_data[\"ISO3\"] == country)]\n",
    "        hist_rows = [row for row in hist_rows.itertuples() if row.ISO3 in green_months]\n",
    "        hist_rows = [row for row in hist_rows if row.month >= green_months[row.ISO3][0] and row.month <= green_months[row.ISO3][1]]\n",
    "    \n",
    "        nat_rows = hist_nat_data.loc[(hist_nat_data[\"year\"] == year) & (hist_nat_data[\"ISO3\"] == country)]\n",
    "        nat_rows = [row for row in nat_rows.itertuples() if row.ISO3 in green_months]\n",
    "        nat_rows = [row for row in nat_rows if row.month >= green_months[row.ISO3][0] and row.month <= green_months[row.ISO3][1]]\n",
    "        \n",
    "        hist_temp[country].append(np.mean([((row.tasmax + row.tasmin)/2)-273.15 for row in hist_rows]))\n",
    "        hist_prcp[country].append(np.sum([row.pr for row in hist_rows]))\n",
    "    \n",
    "        hist_nat_temp[country].append(np.mean([((row.tasmax + row.tasmin)/2)-273.15 for row in nat_rows]))\n",
    "        hist_nat_prcp[country].append(np.sum([row.pr for row in nat_rows]))"
   ]
  },
  {
   "cell_type": "code",
   "execution_count": 97,
   "id": "6b3a84be-6c53-4af6-991d-bc64e4707fdd",
   "metadata": {},
   "outputs": [],
   "source": [
    "temp_hist_dev, temp_nat_dev, prcp_hist_dev, prcp_nat_dev = {}, {}, {}, {}\n",
    "t1, t2, p1, p2 = {}, {}, {}, {}\n",
    "t_diff, t_2_diff, p_diff, p_2_diff, = {}, {}, {}, {}\n",
    "\n",
    "for country in set(data.ISO3):\n",
    "    \n",
    "    temp_hist_dev[country] = np.array(hist_temp[country]) - country_climate_means[country][\"mean_temp\"]\n",
    "    temp_nat_dev[country] = np.array(hist_nat_temp[country]) - country_climate_means[country][\"mean_temp\"]\n",
    "    prcp_hist_dev[country] = 1 + (np.array(hist_prcp[country]) - country_climate_means[country][\"mean_prcp\"]) / country_climate_means[country][\"mean_prcp\"]\n",
    "    prcp_nat_dev[country] = 1 + (np.array(hist_nat_prcp[country]) - country_climate_means[country][\"mean_prcp\"]) / country_climate_means[country][\"mean_prcp\"]\n",
    "    \n",
    "    t1[country] = temp_nat_dev[country] + country_1961_means[country][\"mean_temp\"]\n",
    "    t2[country] = temp_hist_dev[country] + country_1961_means[country][\"mean_temp\"]\n",
    "    p1[country] = prcp_nat_dev[country] * country_1961_means[country][\"mean_prcp\"]\n",
    "    p2[country] = prcp_hist_dev[country] * country_1961_means[country][\"mean_prcp\"]\n",
    "\n",
    "    t_diff[country] = t2[country] - t1[country]\n",
    "    p_diff[country] = p2[country] - p1[country]\n",
    "    t_2_diff[country] = pow(t2[country],2) - pow(t1[country],2)\n",
    "    p_2_diff[country] = pow(p2[country],2) - pow(p1[country],2)"
   ]
  },
  {
   "cell_type": "code",
   "execution_count": 98,
   "id": "757fb300-b5ec-44e4-9526-9ec574133820",
   "metadata": {},
   "outputs": [],
   "source": [
    "country_res = {}\n",
    "for country in set(data.ISO3):\n",
    "    country_res[country] = t_diff[country]*coef1 + t_2_diff[country]*coef2 + p_diff[country]*coef3 + p_2_diff[country]*coef4\n",
    "final_vals = []\n",
    "for i in range(len(set(data.year))):\n",
    "    this_year_vals = []\n",
    "    for country, values in country_res.items():\n",
    "        if not np.isnan(values[0]) and country in country_weights:\n",
    "            this_year_vals.append(values[i] * country_weights[country])\n",
    "    final_vals.append(np.sum(this_year_vals))"
   ]
  },
  {
   "cell_type": "code",
   "execution_count": 103,
   "id": "f1c274dd-ea68-4beb-9251-164e0aa431dd",
   "metadata": {},
   "outputs": [
    {
     "name": "stdout",
     "output_type": "stream",
     "text": [
      "[  5482.24003961  -3135.44544997   3084.94472679  -4552.61090759\n",
      "    400.36490979  -2397.4871623    7488.77594986  -5332.99456831\n",
      "  -1127.89502622    810.96464925  -1075.51174739   5788.03271666\n",
      "   -190.93086901   5013.46244228  -1023.57940186   3953.31703351\n",
      "  -3691.30660168  -1934.23961026   -334.12455079    142.77972253\n",
      "    264.410429    -2095.83089984   1036.50935456    236.30563478\n",
      "  -1676.42425912   5229.38509205   -515.91369766   -625.15665987\n",
      "   2193.43065619   1119.16585987   -402.25656531    796.66492628\n",
      "   1352.42330955   1959.18699124   1625.65048935 -10068.30001237\n",
      "  -1969.78451802    -36.88518346   1076.3982163    6413.19688053\n",
      "   -887.99945354  -2129.22656787   4829.04010427   2521.39612216\n",
      "  -3830.93865977   -396.78491473  -3244.99668606  -3467.62748161\n",
      "   3345.0816945   -7557.34557534   -507.23246979  -2352.42412427\n",
      "   -200.21469177    357.87926221]\n"
     ]
    }
   ],
   "source": [
    "print(p_2_diff[\"AFG\"])"
   ]
  },
  {
   "cell_type": "code",
   "execution_count": 57,
   "id": "cebb610c-c63c-425a-bbe2-e407b77c3f01",
   "metadata": {},
   "outputs": [
    {
     "name": "stderr",
     "output_type": "stream",
     "text": [
      "Sampling: [tfp_posterior]\n"
     ]
    },
    {
     "data": {
      "text/html": [
       "\n",
       "<style>\n",
       "    /* Turns off some styling */\n",
       "    progress {\n",
       "        /* gets rid of default border in Firefox and Opera. */\n",
       "        border: none;\n",
       "        /* Needs to be in here for Safari polyfill so background images work as expected. */\n",
       "        background-size: auto;\n",
       "    }\n",
       "    progress:not([value]), progress:not([value])::-webkit-progress-bar {\n",
       "        background: repeating-linear-gradient(45deg, #7e7e7e, #7e7e7e 10px, #5c5c5c 10px, #5c5c5c 20px);\n",
       "    }\n",
       "    .progress-bar-interrupted, .progress-bar-interrupted::-webkit-progress-bar {\n",
       "        background: #F44336;\n",
       "    }\n",
       "</style>\n"
      ],
      "text/plain": [
       "<IPython.core.display.HTML object>"
      ]
     },
     "metadata": {},
     "output_type": "display_data"
    },
    {
     "data": {
      "text/html": [
       "\n",
       "    <div>\n",
       "      <progress value='4000' class='' max='4000' style='width:300px; height:20px; vertical-align: middle;'></progress>\n",
       "      100.00% [4000/4000 00:00&lt;00:00]\n",
       "    </div>\n",
       "    "
      ],
      "text/plain": [
       "<IPython.core.display.HTML object>"
      ]
     },
     "metadata": {},
     "output_type": "display_data"
    },
    {
     "name": "stderr",
     "output_type": "stream",
     "text": [
      "Sampling: [tfp_posterior]\n"
     ]
    },
    {
     "data": {
      "text/html": [
       "\n",
       "<style>\n",
       "    /* Turns off some styling */\n",
       "    progress {\n",
       "        /* gets rid of default border in Firefox and Opera. */\n",
       "        border: none;\n",
       "        /* Needs to be in here for Safari polyfill so background images work as expected. */\n",
       "        background-size: auto;\n",
       "    }\n",
       "    progress:not([value]), progress:not([value])::-webkit-progress-bar {\n",
       "        background: repeating-linear-gradient(45deg, #7e7e7e, #7e7e7e 10px, #5c5c5c 10px, #5c5c5c 20px);\n",
       "    }\n",
       "    .progress-bar-interrupted, .progress-bar-interrupted::-webkit-progress-bar {\n",
       "        background: #F44336;\n",
       "    }\n",
       "</style>\n"
      ],
      "text/plain": [
       "<IPython.core.display.HTML object>"
      ]
     },
     "metadata": {},
     "output_type": "display_data"
    },
    {
     "data": {
      "text/html": [
       "\n",
       "    <div>\n",
       "      <progress value='4000' class='' max='4000' style='width:300px; height:20px; vertical-align: middle;'></progress>\n",
       "      100.00% [4000/4000 00:00&lt;00:00]\n",
       "    </div>\n",
       "    "
      ],
      "text/plain": [
       "<IPython.core.display.HTML object>"
      ]
     },
     "metadata": {},
     "output_type": "display_data"
    }
   ],
   "source": [
    "model_0 = do(model, {\n",
    "    \"fd_temp_posterior\":np.zeros(data_len),\n",
    "    \"fd_sq_temp_posterior\":np.zeros(data_len),\n",
    "    \"fd_precip_posterior\":np.zeros(data_len),\n",
    "    \"fd_sq_precip_posterior\":np.zeros(data_len),\n",
    "    \"tfp_intercept\":0,\n",
    "    \"fd_temp_tfp_coef\":-0.006519371207706483,\n",
    "    \"fd_sq_temp_tfp_coef\":-4.6465060074284566e-05,\n",
    "    \"fd_precip_tfp_coef\":0.0001818307200354313,\n",
    "    \"fd_sq_precip_tfp_coef\":-1.8185374491776674e-07\n",
    "})\n",
    "model_1 = do(model, {\n",
    "    \"fd_temp_posterior\":temp_diff,\n",
    "    \"fd_sq_temp_posterior\":temp_sq_diff,\n",
    "    \"fd_precip_posterior\":prcp_diff,\n",
    "    \"fd_sq_precip_posterior\":prcp_sq_diff,\n",
    "    \"tfp_intercept\":0,\n",
    "    \"fd_temp_tfp_coef\":-0.006519371207706483,\n",
    "    \"fd_sq_temp_tfp_coef\":-4.6465060074284566e-05,\n",
    "    \"fd_precip_tfp_coef\":0.0001818307200354313,\n",
    "    \"fd_sq_precip_tfp_coef\":-1.8185374491776674e-07\n",
    "\n",
    "})\n",
    "\n",
    "model_0_tfp_samples = pm.sample_posterior_predictive(\n",
    "    trace,\n",
    "    model=model_0,\n",
    "    var_names=[\"tfp_posterior\",\"fd_temp_posterior\",\"fd_sq_temp_posterior\",\"fd_precip_posterior\",\"fd_sq_precip_posterior\"]\n",
    ")\n",
    "model_1_tfp_samples = pm.sample_posterior_predictive(\n",
    "    trace,\n",
    "    model=model_1,\n",
    "    var_names=[\"tfp_posterior\",\"fd_temp_posterior\",\"fd_sq_temp_posterior\",\"fd_precip_posterior\",\"fd_sq_precip_posterior\"]\n",
    ")"
   ]
  },
  {
   "cell_type": "code",
   "execution_count": 58,
   "id": "f3abf08c-0978-4dde-a587-dbd618272fb1",
   "metadata": {},
   "outputs": [
    {
     "name": "stdout",
     "output_type": "stream",
     "text": [
      "-4.913528029512273e-06\n",
      "-0.003592186441799411\n"
     ]
    }
   ],
   "source": [
    "print(np.mean(model_0_tfp_samples.posterior_predictive.tfp_posterior.data))\n",
    "print(np.mean(model_1_tfp_samples.posterior_predictive.tfp_posterior.data))"
   ]
  },
  {
   "cell_type": "code",
   "execution_count": 59,
   "id": "7f8da270-780d-4acf-a2d6-5bd45e521332",
   "metadata": {},
   "outputs": [
    {
     "data": {
      "text/plain": [
       "<Axes: ylabel='Probability'>"
      ]
     },
     "execution_count": 59,
     "metadata": {},
     "output_type": "execute_result"
    },
    {
     "data": {
      "image/png": "[encoded data removed]",
      "text/plain": [
       "<Figure size 640x480 with 1 Axes>"
      ]
     },
     "metadata": {},
     "output_type": "display_data"
    }
   ],
   "source": [
    "fig, ax = plt.subplots()\n",
    "sns.histplot(data=np.array(model_0_tfp_samples.posterior_predictive.tfp_posterior.data.flatten()), stat='probability', bins=1000, ax=ax, color=\"blue\", label = \"Without Anthropogenic Climate Change\")\n",
    "sns.histplot(data=np.array(model_1_tfp_samples.posterior_predictive.tfp_posterior.data.flatten()), stat='probability', bins=1000, ax=ax, color=\"orange\", label = \"With Anthropogenic Climate Change\")\n",
    "# ax.legend()"
   ]
  },
  {
   "cell_type": "code",
   "execution_count": null,
   "id": "e728334c-91ab-4253-9fbb-6300dbb3cce6",
   "metadata": {},
   "outputs": [],
   "source": []
  }
 ],
 "metadata": {
  "kernelspec": {
   "display_name": "Python 3 (ipykernel)",
   "language": "python",
   "name": "python3"
  },
  "language_info": {
   "codemirror_mode": {
    "name": "ipython",
    "version": 3
   },
   "file_extension": ".py",
   "mimetype": "text/x-python",
   "name": "python",
   "nbconvert_exporter": "python",
   "pygments_lexer": "ipython3",
   "version": "3.10.12"
  }
 },
 "nbformat": 4,
 "nbformat_minor": 5
}
