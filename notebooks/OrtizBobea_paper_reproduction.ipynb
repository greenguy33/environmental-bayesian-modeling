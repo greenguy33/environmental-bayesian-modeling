{
 "cells": [
  {
   "cell_type": "code",
   "execution_count": 4,
   "id": "0dbc448d-ccc9-40ef-969c-05a16590832d",
   "metadata": {},
   "outputs": [],
   "source": [
    "import csv\n",
    "import os\n",
    "import pymc as pm\n",
    "from pymc import do, observe\n",
    "import pandas as pd\n",
    "import numpy as np\n",
    "import arviz as az\n",
    "from sklearn.preprocessing import StandardScaler, MinMaxScaler, OrdinalEncoder\n",
    "from pytensor import tensor as pt\n",
    "import pickle as pkl\n",
    "import matplotlib.pyplot as plt\n",
    "import matplotlib.patches as patches\n",
    "import matplotlib.colors as clr\n",
    "import scipy.stats as stats\n",
    "import seaborn as sns\n",
    "import itertools as it\n",
    "import country_converter as cc\n",
    "import math\n",
    "from sklearn.linear_model import LinearRegression\n",
    "import graphviz\n",
    "import random\n",
    "import geopandas\n",
    "import folium"
   ]
  },
  {
   "cell_type": "markdown",
   "id": "b0a66f28-bdab-4c72-8947-c06c03b375ed",
   "metadata": {},
   "source": [
    "# Load data"
   ]
  },
  {
   "cell_type": "code",
   "execution_count": 5,
   "id": "c7e8c0b9-df20-4d61-a046-3b2ff71f9c19",
   "metadata": {},
   "outputs": [
    {
     "name": "stderr",
     "output_type": "stream",
     "text": [
      "/tmp/ipykernel_5998/4115941307.py:9: DeprecationWarning: Conversion of an array with ndim > 0 to a scalar is deprecated, and will error in future. Ensure you extract a single element from your array before performing this operation. (Deprecated NumPy 1.25.)\n",
      "  data[\"encoded_iso_id\"] = [int(val) for val in enc.transform(np.array(data.ISO3).reshape(-1,1))]\n"
     ]
    }
   ],
   "source": [
    "data = pd.read_csv(\"../data/ortiz-bobea/data2/regdata_preferred_case_encoded_iso_id.csv\")\n",
    "gcm_data = pd.read_pickle(\"../data/ortiz-bobea/data2/gcm_data.pkl\")\n",
    "data_len = len(data.fd_tmean)\n",
    "test_data = pd.read_csv(\"../data/ortiz-bobea/data2/regdata_test.csv\")\n",
    "train_data = pd.read_csv(\"../data/ortiz-bobea/data2/regdata_train.csv\")\n",
    "ordered_country_list = list(dict.fromkeys(train_data.ISO3))\n",
    "enc = OrdinalEncoder()\n",
    "enc.fit(np.array(ordered_country_list).reshape(-1,1))\n",
    "data[\"encoded_iso_id\"] = [int(val) for val in enc.transform(np.array(data.ISO3).reshape(-1,1))]"
   ]
  },
  {
   "cell_type": "markdown",
   "id": "8af11506-a4aa-4378-a151-5b1298f7de8f",
   "metadata": {},
   "source": [
    "# Make dataset withholding random points"
   ]
  },
  {
   "cell_type": "code",
   "execution_count": null,
   "id": "6307f6c2-301b-45d3-a9d5-56dcefcfbafa",
   "metadata": {},
   "outputs": [],
   "source": [
    "indices_to_drop = []\n",
    "all_years = set(data.year)\n",
    "for year in all_years:\n",
    "    year_rows = data.loc[data.year == year]\n",
    "    year_row_indices = list(year_rows.index)\n",
    "    drop_from_this_year = random.sample(year_row_indices, 6)\n",
    "    for index in drop_from_this_year:\n",
    "        indices_to_drop.append(index)\n",
    "withheld_rows = data.iloc[indices_to_drop]\n",
    "data_len_before = len(data)\n",
    "data_mod = data.drop(indices_to_drop)\n",
    "data_mod = data_mod.reset_index(drop=True)\n",
    "print(f\"Removed {data_len_before - len(data_mod)} rows.\")"
   ]
  },
  {
   "cell_type": "code",
   "execution_count": null,
   "id": "08bccc9e-00af-4170-beee-7a915d760bdb",
   "metadata": {},
   "outputs": [],
   "source": [
    "data_mod.to_csv(\"../data/ortiz-bobea/data2/regdata_train.csv\")"
   ]
  },
  {
   "cell_type": "code",
   "execution_count": null,
   "id": "e67e8420-c889-4ecf-89e8-03c818326555",
   "metadata": {},
   "outputs": [],
   "source": [
    "pd.DataFrame(withheld_rows).to_csv(\"../data/ortiz-bobea/data2/regdata_test.csv\")"
   ]
  },
  {
   "cell_type": "code",
   "execution_count": null,
   "id": "2ddba696-3ffe-4f0a-a540-f499859c4408",
   "metadata": {},
   "outputs": [],
   "source": [
    "pd.DataFrame(data).to_csv(\"../data/ortiz-bobea/data2/regdata_preferred_case_encoded_iso_id.csv\")"
   ]
  },
  {
   "cell_type": "markdown",
   "id": "f3772369-b6b8-4851-a362-d5ff658ef67d",
   "metadata": {},
   "source": [
    "# Estimate historical anthropogenic effect on TFP"
   ]
  },
  {
   "cell_type": "code",
   "execution_count": 3,
   "id": "fe55d928-9638-4af4-8ab1-a598a8ff7b5b",
   "metadata": {},
   "outputs": [],
   "source": [
    "# Green months\n",
    "green_months = {}\n",
    "green_month_data = pd.read_csv(\"../data/ortiz-bobea/data2/ndvi_co/peak_bottom_ndvi_month_country.csv\")\n",
    "for row in green_month_data.itertuples():\n",
    "    peak = row[5]\n",
    "    season = [i for i in range(peak-2,peak+3)]\n",
    "    for i in range(len(season)):\n",
    "        if season[i] < 1:\n",
    "            season[i] = season[i] + 12\n",
    "        elif season[i] > 12:\n",
    "            season[i] = season[i] - 12\n",
    "    green_months[row.ISO3] = season"
   ]
  },
  {
   "cell_type": "code",
   "execution_count": 6,
   "id": "4f58a697-6b17-4a31-a3e6-b7c9b4ffc64e",
   "metadata": {},
   "outputs": [
    {
     "name": "stdout",
     "output_type": "stream",
     "text": [
      "BCC-CSM2-MR\n"
     ]
    },
    {
     "name": "stderr",
     "output_type": "stream",
     "text": [
      "Exception ignored in: <bound method IPythonKernel._clean_thread_parent_frames of <ipykernel.ipkernel.IPythonKernel object at 0x7f22d8e0cee0>>\n",
      "Traceback (most recent call last):\n",
      "  File \"/home/hayden_freedman/pymc_dev.venv/lib/python3.10/site-packages/ipykernel/ipkernel.py\", line 770, in _clean_thread_parent_frames\n",
      "    def _clean_thread_parent_frames(\n",
      "KeyboardInterrupt: \n",
      "\n",
      "KeyboardInterrupt\n",
      "\n"
     ]
    }
   ],
   "source": [
    "## DO NOT RUN UNLESS GCM_DATA.PKL IS MISSING\n",
    "\n",
    "gcms = [\"BCC-CSM2-MR\",\"CanESM5\",\"CNRM-CM6-1\",\"HadGEM3-GC31-LL\",\"IPSL-CM6A-LR\",\"MIROC6\",\"MRI-ESM2-0\"]\n",
    "gcm_data = {gcm:{\"hist_temp\":{},\"hist_prcp\":{},\"hist_nat_temp\":{},\"hist_nat_prcp\":{}} for gcm in gcms}\n",
    "\n",
    "for gcm in gcms:\n",
    "    print(gcm)\n",
    "    try:\n",
    "        hist_data = pd.read_csv(f\"../data/ortiz-bobea/data2/CMIP6_co/historical_{gcm}_1948-2020_cropland.csv\")\n",
    "    except FileNotFoundError:\n",
    "        hist_data = pd.read_csv(f\"../data/ortiz-bobea/data2/CMIP6_co/historical_{gcm}_1950-2020_cropland.csv\")\n",
    "    try:\n",
    "        hist_nat_data = pd.read_csv(f\"../data/ortiz-bobea/data2/CMIP6_co/hist-nat_{gcm}_1948-2020_cropland.csv\")\n",
    "    except FileNotFoundError:\n",
    "        hist_nat_data = pd.read_csv(f\"../data/ortiz-bobea/data2/CMIP6_co/hist-nat_{gcm}_1950-2020_cropland.csv\")\n",
    "\n",
    "    hist_temp, hist_nat_temp, hist_prcp, hist_nat_prcp = {key:[] for key in list(set(data.ISO3))}, {key:[] for key in list(set(data.ISO3))}, {key:[] for key in list(set(data.ISO3))}, {key:[] for key in list(set(data.ISO3))}\n",
    "    \n",
    "    for year in range(1961,2021):\n",
    "        for country in set(data.ISO3):\n",
    "    \n",
    "            hist_rows = hist_data.loc[(hist_data[\"year\"] == year) & (hist_data[\"ISO3\"] == country)]\n",
    "            hist_rows = [row for row in hist_rows.itertuples() if row.month in green_months[country]]\n",
    "        \n",
    "            nat_rows = hist_nat_data.loc[(hist_nat_data[\"year\"] == year) & (hist_nat_data[\"ISO3\"] == country)]\n",
    "            nat_rows = [row for row in nat_rows.itertuples() if row.month in green_months[country]]\n",
    "            \n",
    "            hist_temp[country].append(np.mean([((row.tasmax + row.tasmin)/2)-273.15 for row in hist_rows]))\n",
    "            hist_prcp[country].append(np.sum([row.pr for row in hist_rows]))\n",
    "        \n",
    "            hist_nat_temp[country].append(np.mean([((row.tasmax + row.tasmin)/2)-273.15 for row in nat_rows]))\n",
    "            hist_nat_prcp[country].append(np.sum([row.pr for row in nat_rows]))\n",
    "\n",
    "    gcm_data[gcm][\"hist_temp\"] = hist_temp\n",
    "    gcm_data[gcm][\"hist_prcp\"] = hist_prcp\n",
    "    gcm_data[gcm][\"hist_nat_temp\"] = hist_nat_temp\n",
    "    gcm_data[gcm][\"hist_nat_prcp\"] = hist_nat_prcp\n",
    "\n",
    "with open (\"../data/ortiz-bobea/data2/gcm_data.pkl\", 'wb') as buff:\n",
    "    pkl.dump(gcm_data,buff)"
   ]
  },
  {
   "cell_type": "markdown",
   "id": "941a3d25-fe5e-4d5f-869d-56fc78ca44ee",
   "metadata": {},
   "source": [
    "# Calculate impacts"
   ]
  },
  {
   "cell_type": "code",
   "execution_count": 4,
   "id": "81ba0af6-25d8-4b00-b2b9-44d0bf72a3ea",
   "metadata": {},
   "outputs": [],
   "source": [
    "# Revenue Weights\n",
    "revenue_data = pd.read_csv(\"../data/ortiz-bobea/data/TFP_USDA/revenue_shares.csv\")\n",
    "country_weights = {}\n",
    "for row in revenue_data.itertuples():\n",
    "    if row[3] in set(data.ISO3):\n",
    "        country_weights[row[3]] = np.mean([row[5],row[6],row[7],row[8],row[9],row[10]])\n",
    "weight_sum = sum(list(country_weights.values()))\n",
    "for country, val in country_weights.items():\n",
    "    country_weights[country] = val/weight_sum"
   ]
  },
  {
   "cell_type": "code",
   "execution_count": 5,
   "id": "cddc20b0-89ce-4158-a118-127455eda5dc",
   "metadata": {},
   "outputs": [],
   "source": [
    "# Historical climate means\n",
    "country_climate_means = {}\n",
    "country_1961_means = {}\n",
    "ccm_file = pd.read_csv(\"../data/ortiz-bobea/data2/country_climate_means.csv\")\n",
    "for row in ccm_file.itertuples():\n",
    "    country_climate_means[row[2]] = {\"mean_temp\":row[3], \"mean_prcp\":row[4]}\n",
    "c1961_file = pd.read_csv(\"../data/ortiz-bobea/data2/country_climate_1961.csv\")\n",
    "for row in c1961_file.itertuples():\n",
    "    country_1961_means[row[2]] = {\"mean_temp\":row[6],\"mean_prcp\":row[4]}"
   ]
  },
  {
   "cell_type": "code",
   "execution_count": 6,
   "id": "6b3a84be-6c53-4af6-991d-bc64e4707fdd",
   "metadata": {},
   "outputs": [],
   "source": [
    "temp_hist_dev, temp_nat_dev, prcp_hist_dev, prcp_nat_dev = {}, {}, {}, {}\n",
    "t1, t2, p1, p2 = {}, {}, {}, {}\n",
    "t_diff, t_2_diff, p_diff, p_2_diff, = {}, {}, {}, {}\n",
    "\n",
    "for gcm in gcm_data:\n",
    "    \n",
    "    temp_hist_dev[gcm] = {}\n",
    "    temp_nat_dev[gcm] = {}\n",
    "    prcp_hist_dev[gcm] = {}\n",
    "    prcp_nat_dev[gcm] = {}\n",
    "    t1[gcm] = {}\n",
    "    t2[gcm] = {}\n",
    "    p1[gcm] = {}\n",
    "    p2[gcm] = {}\n",
    "    t_diff[gcm] = {}\n",
    "    p_diff[gcm] = {}\n",
    "    t_2_diff[gcm] = {}\n",
    "    p_2_diff[gcm] = {}\n",
    "    \n",
    "    for country in set(data.ISO3):\n",
    "    \n",
    "        temp_hist_dev[gcm][country] = np.array(gcm_data[gcm][\"hist_temp\"][country]) - country_climate_means[country][\"mean_temp\"]\n",
    "        temp_nat_dev[gcm][country] = np.array(gcm_data[gcm][\"hist_nat_temp\"][country]) - country_climate_means[country][\"mean_temp\"]\n",
    "        prcp_hist_dev[gcm][country] = 1 + (np.array(gcm_data[gcm][\"hist_prcp\"][country]) - country_climate_means[country][\"mean_prcp\"]) / country_climate_means[country][\"mean_prcp\"]\n",
    "        prcp_nat_dev[gcm][country] = 1 + (np.array(gcm_data[gcm][\"hist_nat_prcp\"][country]) - country_climate_means[country][\"mean_prcp\"]) / country_climate_means[country][\"mean_prcp\"]\n",
    "        \n",
    "        t1[gcm][country] = temp_nat_dev[gcm][country] + country_1961_means[country][\"mean_temp\"]\n",
    "        t2[gcm][country] = temp_hist_dev[gcm][country] + country_1961_means[country][\"mean_temp\"]\n",
    "        p1[gcm][country] = prcp_nat_dev[gcm][country] * country_1961_means[country][\"mean_prcp\"]\n",
    "        p2[gcm][country] = prcp_hist_dev[gcm][country] * country_1961_means[country][\"mean_prcp\"]\n",
    "    \n",
    "        t_diff[gcm][country] = t2[gcm][country] - t1[gcm][country]\n",
    "        p_diff[gcm][country] = p2[gcm][country] - p1[gcm][country]\n",
    "        t_2_diff[gcm][country] = pow(t2[gcm][country],2) - pow(t1[gcm][country],2)\n",
    "        p_2_diff[gcm][country] = pow(p2[gcm][country],2) - pow(p1[gcm][country],2)"
   ]
  },
  {
   "cell_type": "code",
   "execution_count": 7,
   "id": "297d8871-11bd-48e1-8897-3ac62735081a",
   "metadata": {},
   "outputs": [],
   "source": [
    "def sample_from_global_impacts(global_impacts, num_samples = 2000):\n",
    "    random.seed(1)\n",
    "    avg_res = []\n",
    "    for i in range(num_predictions):\n",
    "        samples = []\n",
    "        gcm_sample = random.choices(list(gcm_data.keys()), k=num_samples)\n",
    "        sample = random.choices(list(range(num_predictions)), k=num_samples)\n",
    "        for i in range(num_samples):\n",
    "            gcm = gcm_sample[i]\n",
    "            samples.append((math.exp(global_impacts[gcm][sample[i]][-1])-1)*100)\n",
    "        samples = sorted(samples)\n",
    "        interval = np.quantile(samples,[.05,.95])\n",
    "        avg_res.append([np.mean(samples),interval[0],interval[1]])\n",
    "    print(np.mean(avg_res,axis=0))\n",
    "    return samples, np.mean(avg_res,axis=0)"
   ]
  },
  {
   "cell_type": "markdown",
   "id": "ce999e58-7dc3-4baa-ae64-8c38b21aad28",
   "metadata": {},
   "source": [
    "# Bayesian model"
   ]
  },
  {
   "cell_type": "code",
   "execution_count": 6,
   "id": "c57e5d84-07f5-4da7-8cef-6a502eadf27b",
   "metadata": {},
   "outputs": [],
   "source": [
    "bayes_model_full = pd.read_pickle('../models/nature_reproduction/ortiz-bobea-reproduction-year-country-fixed-effects-deterministic-observed-hierarchical-std-error.pkl')\n",
    "bayes_model_withheld = pd.read_pickle('../models/nature_reproduction/ortiz-bobea-reproduction-year-country-fixed-effects-deterministic-observed-hierarchical-std-error-withheld.pkl')"
   ]
  },
  {
   "cell_type": "code",
   "execution_count": 8,
   "id": "fa83f916-08fd-4ef2-814d-22e1e353efbd",
   "metadata": {},
   "outputs": [],
   "source": [
    "random.seed(1)\n",
    "indices = random.sample(range(4000),4000)\n",
    "\n",
    "bayes_coef1_withheld = np.array([sample for index, sample in enumerate(list(bayes_model_withheld[\"trace\"].posterior.fd_temp_tfp_coef.data.flatten())) if index in indices])\n",
    "bayes_coef2_withheld = np.array([sample for index, sample in enumerate(list(bayes_model_withheld[\"trace\"].posterior.fd_sq_temp_tfp_coef.data.flatten())) if index in indices])\n",
    "bayes_coef3_withheld = np.array([sample for index, sample in enumerate(list(bayes_model_withheld[\"trace\"].posterior.fd_precip_tfp_coef.data.flatten())) if index in indices])\n",
    "bayes_coef4_withheld = np.array([sample for index, sample in enumerate(list(bayes_model_withheld[\"trace\"].posterior.fd_sq_precip_tfp_coef.data.flatten())) if index in indices])\n",
    "bayes_intercept_withheld = np.array([sample for index, sample in enumerate(bayes_model_withheld[\"trace\"].posterior.tfp_intercept.data.flatten()) if index in indices])\n",
    "bayes_country_coefs_withheld = np.transpose([sample for index,sample in enumerate(np.vstack(bayes_model_withheld[\"trace\"].posterior.country_coefs.data)) if index in indices])\n",
    "bayes_year_coefs_withheld = np.transpose([sample for index,sample in enumerate(np.vstack(bayes_model_withheld[\"trace\"].posterior.year_coefs.data)) if index in indices])\n",
    "\n",
    "bayes_coef1_full = np.array([sample for index, sample in enumerate(list(bayes_model_full[\"trace\"].posterior.fd_temp_tfp_coef.data.flatten())) if index in indices])\n",
    "bayes_coef2_full = np.array([sample for index, sample in enumerate(list(bayes_model_full[\"trace\"].posterior.fd_sq_temp_tfp_coef.data.flatten())) if index in indices])\n",
    "bayes_coef3_full = np.array([sample for index, sample in enumerate(list(bayes_model_full[\"trace\"].posterior.fd_precip_tfp_coef.data.flatten())) if index in indices])\n",
    "bayes_coef4_full = np.array([sample for index, sample in enumerate(list(bayes_model_full[\"trace\"].posterior.fd_sq_precip_tfp_coef.data.flatten())) if index in indices])\n",
    "bayes_intercept_full = np.array([sample for index, sample in enumerate(bayes_model_full[\"trace\"].posterior.tfp_intercept.data.flatten()) if index in indices])\n",
    "bayes_country_coefs_full = np.transpose([sample for index,sample in enumerate(np.vstack(bayes_model_full[\"trace\"].posterior.country_coefs.data)) if index in indices])\n",
    "bayes_year_coefs_full = np.transpose([sample for index,sample in enumerate(np.vstack(bayes_model_full[\"trace\"].posterior.year_coefs.data)) if index in indices])"
   ]
  },
  {
   "cell_type": "code",
   "execution_count": 11,
   "id": "02f0ec69-c604-4fab-813c-dbd28f9e0003",
   "metadata": {},
   "outputs": [
    {
     "name": "stdout",
     "output_type": "stream",
     "text": [
      "[-20.68305509 -38.99006329 -10.23261462]\n"
     ]
    }
   ],
   "source": [
    "num_predictions = len(bayes_coef1_full)\n",
    "bayes_cumulative_gcm_global_impacts = {}\n",
    "for gcm in gcm_data.keys():\n",
    "    bayes_cumulative_gcm_global_impacts[gcm] = []\n",
    "    country_res = {}\n",
    "    for country in set(data.ISO3):\n",
    "        country_res[country] = []\n",
    "        for i in range(num_predictions):\n",
    "            country_res[country].append(\n",
    "                t_diff[gcm][country]*bayes_coef1_full[i] + \n",
    "                t_2_diff[gcm][country]*bayes_coef2_full[i] + \n",
    "                p_diff[gcm][country]*bayes_coef3_full[i] + \n",
    "                p_2_diff[gcm][country]*bayes_coef4_full[i]\n",
    "        )\n",
    "    for coef in range(num_predictions):\n",
    "        coef_vals = []\n",
    "        for year in range(0,60):\n",
    "            year_vals = []\n",
    "            for country, values in country_res.items():\n",
    "                year_vals.append(values[coef][year] * country_weights[country])\n",
    "            coef_vals.append(np.sum(year_vals))\n",
    "        bayes_cumulative_gcm_global_impacts[gcm].append(np.cumsum(coef_vals))\n",
    "\n",
    "bayes_gcm_averages = {gcm:(math.exp(np.mean([elem[-1] for elem in bayes_cumulative_gcm_global_impacts[gcm]]))-1)*100 for gcm in gcm_data}\n",
    "bayes_res, bayes_interval = sample_from_global_impacts(bayes_cumulative_gcm_global_impacts)"
   ]
  },
  {
   "cell_type": "code",
   "execution_count": 9,
   "id": "86e448c5-8e7c-4c60-ada1-e6d11d845c4f",
   "metadata": {},
   "outputs": [],
   "source": [
    "bayes_yhat = []\n",
    "bayes_real_y = []\n",
    "min_year = min(train_data.year)\n",
    "for row in test_data.sort_values(by=\"fd_log_tfp\").iterrows():\n",
    "# for row in train_data.iterrows():\n",
    "    temp = row[1].fd_tmean\n",
    "    temp2 = row[1].fd_tmean_sq\n",
    "    precip = row[1].fd_prcp\n",
    "    precip2 = row[1].fd_prcp_sq\n",
    "    country = row[1].ISO3\n",
    "    year = row[1].year\n",
    "    bayes_real_y.append(row[1].fd_log_tfp)\n",
    "    if country == ordered_country_list[0]:\n",
    "        country_effect = 0\n",
    "    else:\n",
    "        country_effect = bayes_country_coefs_withheld[ordered_country_list.index(country)-1]\n",
    "    if year - min_year == 0:\n",
    "        year_effect = 0\n",
    "    else:\n",
    "        year_effect = bayes_year_coefs_withheld[year - min_year -1]\n",
    "    predict_tfp = (\n",
    "        temp*bayes_coef1_withheld + \n",
    "        temp2*bayes_coef2_withheld +\n",
    "        precip*bayes_coef3_withheld +\n",
    "        precip2*bayes_coef4_withheld +\n",
    "        country_effect +\n",
    "        year_effect +\n",
    "        bayes_intercept_withheld\n",
    "    )\n",
    "    bayes_yhat.append(sorted(predict_tfp))"
   ]
  },
  {
   "cell_type": "code",
   "execution_count": 10,
   "id": "2752ad92-fbe2-47cb-893b-bece77955e3f",
   "metadata": {},
   "outputs": [],
   "source": [
    "mse = []\n",
    "min_year = min(train_data.year)\n",
    "# for row in test_data.sort_values(by=\"fd_log_tfp\").iterrows():\n",
    "for row in train_data.iterrows():\n",
    "    temp = row[1].fd_tmean\n",
    "    temp2 = row[1].fd_tmean_sq\n",
    "    precip = row[1].fd_prcp\n",
    "    precip2 = row[1].fd_prcp_sq\n",
    "    country = row[1].ISO3\n",
    "    year = row[1].year\n",
    "    if country == ordered_country_list[0]:\n",
    "        country_effect = 0\n",
    "    else:\n",
    "        country_effect = bayes_country_coefs_withheld[ordered_country_list.index(country)-1]\n",
    "    if year - min_year == 0:\n",
    "        year_effect = 0\n",
    "    else:\n",
    "        year_effect = bayes_year_coefs_withheld[year - min_year -1]\n",
    "    predict_tfp = (\n",
    "        temp*bayes_coef1_withheld + \n",
    "        temp2*bayes_coef2_withheld +\n",
    "        precip*bayes_coef3_withheld +\n",
    "        precip2*bayes_coef4_withheld +\n",
    "        country_effect +\n",
    "        year_effect +\n",
    "        bayes_intercept_withheld\n",
    "    )\n",
    "    mse.append(np.square(predict_tfp - row[1].fd_log_tfp))\n",
    "mse = np.mean(mse, axis=0)"
   ]
  },
  {
   "cell_type": "code",
   "execution_count": 12,
   "id": "90dcc32e-1526-4219-9b47-c1ef8f5c3038",
   "metadata": {},
   "outputs": [
    {
     "name": "stdout",
     "output_type": "stream",
     "text": [
      "0.8765432098765432\n",
      "0.12345679012345678\n"
     ]
    }
   ],
   "source": [
    "in_range, out_range = 0, 0\n",
    "bayes_lowers, bayes_uppers = [], []\n",
    "for index, prediction in enumerate(bayes_yhat):\n",
    "    interval = np.quantile(prediction,[.025,.975])\n",
    "    bayes_lowers.append(interval[0])\n",
    "    bayes_uppers.append(interval[1])\n",
    "    if bayes_real_y[index] >= interval[0] - np.sqrt(mse[index]) and bayes_real_y[index] <= interval[1] + np.sqrt(mse[index]):\n",
    "        in_range += 1\n",
    "    else:\n",
    "        out_range += 1\n",
    "print(in_range/len(bayes_yhat))\n",
    "print(out_range/len(bayes_yhat))"
   ]
  },
  {
   "cell_type": "code",
   "execution_count": 18,
   "id": "53580a57-242b-4cc7-9df4-bf4ccbd589ad",
   "metadata": {},
   "outputs": [
    {
     "data": {
      "text/plain": [
       "0.006766660057883309"
      ]
     },
     "execution_count": 18,
     "metadata": {},
     "output_type": "execute_result"
    }
   ],
   "source": [
    "# MSE\n",
    "np.mean(np.square(np.array(np.mean(bayes_yhat, axis=1)) - np.array(bayes_real_y)))"
   ]
  },
  {
   "cell_type": "markdown",
   "id": "d50c7ab5-8f07-4975-88c0-c8f5a2eb9979",
   "metadata": {},
   "source": [
    "# Bootstrap from Stata"
   ]
  },
  {
   "cell_type": "code",
   "execution_count": null,
   "id": "9052b662-b49b-4547-9131-5b5067b9655d",
   "metadata": {},
   "outputs": [],
   "source": [
    "bootstrap_reps = pd.read_csv(\"../data/ortiz-bobea/data2/bootstrap/ortiz_stata_bootstrap_block_withheld.csv\")\n",
    "column_names = list(bootstrap_reps.iloc[0])\n",
    "for index, column in enumerate(column_names):\n",
    "    if \"year\" in column:\n",
    "        column_names[index] = column.split(\"[\")[1].split(\".\")[0].replace(\"b\",\"\")\n",
    "    elif \"isoxtim\" in column:\n",
    "        column_names[index] = column.split(\"[\")[1].split(\"]\")[0].replace(\"o.\",\"\")\n",
    "    elif \"encoded_iso_id\" in column:\n",
    "        column_names[index] = ordered_country_list[int(column.split(\"[\")[1].split(\".\")[0].replace(\"b\",\"\"))]\n",
    "    elif \"_b\" in column:\n",
    "        if \"cons\" in column:\n",
    "            column_names[index] = \"intercept\"\n",
    "        else:\n",
    "            column_names[index] = column.replace(\"_b[\",\"\").replace(\"]\",\"\")\n",
    "bootstrap_reps.iloc[0] = column_names\n",
    "bootstrap_reps.to_csv(\"../data/ortiz-bobea/data2/bootstrap/ortiz_stata_bootstrap_block_withheld_better_column_names.csv\")"
   ]
  },
  {
   "cell_type": "code",
   "execution_count": 14,
   "id": "05c572a1-dad6-4c2a-9130-fa39d1888b44",
   "metadata": {},
   "outputs": [],
   "source": [
    "full_bootstrap = pd.read_csv(\"../data/ortiz-bobea/data2/bootstrap/ortiz_stata_bootstrap_block_better_column_names.csv\", header=1)\n",
    "withheld_bootstrap = pd.read_csv(\"../data/ortiz-bobea/data2/bootstrap/ortiz_stata_bootstrap_block_withheld_better_column_names.csv\", header=1)\n",
    "\n",
    "missing_indices = []\n",
    "for index, row in enumerate(full_bootstrap.itertuples()):\n",
    "    if np.isnan(row.fd_tmean):\n",
    "        missing_indices.append(index)\n",
    "full_bootstrap = full_bootstrap.drop(missing_indices).reset_index(drop=True)[:1000]\n",
    "\n",
    "missing_indices = []\n",
    "for index, row in enumerate(withheld_bootstrap.itertuples()):\n",
    "    if np.isnan(row.fd_tmean):\n",
    "        missing_indices.append(index)\n",
    "withheld_bootstrap = withheld_bootstrap.drop(missing_indices).reset_index(drop=True)[:1000]"
   ]
  },
  {
   "cell_type": "code",
   "execution_count": 15,
   "id": "df6db3c3-a58b-420e-a276-9ffee8c9e290",
   "metadata": {},
   "outputs": [],
   "source": [
    "boot_coef1_full = full_bootstrap[\"fd_tmean\"]\n",
    "boot_coef2_full = full_bootstrap[\"fd_tmean_sq\"]\n",
    "boot_coef3_full = full_bootstrap[\"fd_prcp\"]\n",
    "boot_coef4_full = full_bootstrap[\"fd_prcp_sq\"]\n",
    "\n",
    "boot_coef1_withheld = withheld_bootstrap[\"fd_tmean\"]\n",
    "boot_coef2_withheld = withheld_bootstrap[\"fd_tmean_sq\"]\n",
    "boot_coef3_withheld = withheld_bootstrap[\"fd_prcp\"]\n",
    "boot_coef4_withheld = withheld_bootstrap[\"fd_prcp_sq\"]"
   ]
  },
  {
   "cell_type": "code",
   "execution_count": 16,
   "id": "9bd76c20-6e4a-47ca-9416-978d09c40a84",
   "metadata": {},
   "outputs": [
    {
     "name": "stdout",
     "output_type": "stream",
     "text": [
      "[-20.63871194 -40.55396941  -9.83607034]\n"
     ]
    }
   ],
   "source": [
    "num_predictions = len(boot_coef1_full)\n",
    "\n",
    "boot_cumulative_gcm_global_impacts = {}\n",
    "for gcm in gcm_data.keys():\n",
    "    boot_cumulative_gcm_global_impacts[gcm] = []\n",
    "    country_res = {}\n",
    "    for country in set(data.ISO3):\n",
    "        country_res[country] = []\n",
    "        for i in range(num_predictions):\n",
    "            country_res[country].append(\n",
    "                t_diff[gcm][country]*boot_coef1_full[i] + \n",
    "                t_2_diff[gcm][country]*boot_coef2_full[i] + \n",
    "                p_diff[gcm][country]*boot_coef3_full[i] + \n",
    "                p_2_diff[gcm][country]*boot_coef4_full[i]\n",
    "        )\n",
    "    for coef in range(num_predictions):\n",
    "        coef_vals = []\n",
    "        for year in range(0,60):\n",
    "            year_vals = []\n",
    "            for country, values in country_res.items():\n",
    "                year_vals.append(values[coef][year] * country_weights[country])\n",
    "            coef_vals.append(np.sum(year_vals))\n",
    "        boot_cumulative_gcm_global_impacts[gcm].append(np.cumsum(coef_vals))\n",
    "\n",
    "boot_gcm_averages = {gcm:(math.exp(np.mean([elem[-1] for elem in boot_cumulative_gcm_global_impacts[gcm]]))-1)*100 for gcm in gcm_data}\n",
    "boot_res, boot_interval = sample_from_global_impacts(boot_cumulative_gcm_global_impacts)"
   ]
  },
  {
   "cell_type": "code",
   "execution_count": 17,
   "id": "120e172c-d677-4582-a468-d0c0177d0a49",
   "metadata": {},
   "outputs": [],
   "source": [
    "boot_yhat = []\n",
    "boot_real_y = []\n",
    "for row in test_data.sort_values(by=\"fd_log_tfp\").iterrows():\n",
    "# for row in train_data.iterrows():\n",
    "    temp = row[1].fd_tmean\n",
    "    temp2 = row[1].fd_tmean_sq\n",
    "    precip = row[1].fd_prcp\n",
    "    precip2 = row[1].fd_prcp_sq\n",
    "    country = row[1].ISO3\n",
    "    year = row[1].year\n",
    "    boot_real_y.append(row[1].fd_log_tfp)\n",
    "    predict_tfp = (\n",
    "        temp*boot_coef1_withheld + \n",
    "        temp2*boot_coef2_withheld +\n",
    "        precip*boot_coef3_withheld +\n",
    "        precip2*boot_coef4_withheld +\n",
    "        withheld_bootstrap[country] +\n",
    "        withheld_bootstrap[str(year)] +\n",
    "        withheld_bootstrap[\"intercept\"]\n",
    "    )\n",
    "    boot_yhat.append(sorted(predict_tfp))"
   ]
  },
  {
   "cell_type": "code",
   "execution_count": 18,
   "id": "8e5a7622-957e-4b90-940c-0840456d2df5",
   "metadata": {},
   "outputs": [
    {
     "name": "stdout",
     "output_type": "stream",
     "text": [
      "0.36419753086419754\n",
      "0.6358024691358025\n"
     ]
    }
   ],
   "source": [
    "in_range, out_range = 0, 0\n",
    "boot_lowers, boot_uppers = [], []\n",
    "for index, prediction in enumerate(boot_yhat):\n",
    "    interval = np.quantile(prediction,[.025,.975])\n",
    "    boot_lowers.append(interval[0])\n",
    "    boot_uppers.append(interval[1])\n",
    "    if boot_real_y[index] >= interval[0] and boot_real_y[index] <= interval[1]:\n",
    "        in_range += 1\n",
    "    else:\n",
    "        out_range += 1\n",
    "print(in_range/len(boot_yhat))\n",
    "print(out_range/len(boot_yhat))"
   ]
  },
  {
   "cell_type": "code",
   "execution_count": 26,
   "id": "5f8d75a1-7d87-4bef-80e0-674a1531ab00",
   "metadata": {},
   "outputs": [
    {
     "data": {
      "text/plain": [
       "0.006756267755685582"
      ]
     },
     "execution_count": 26,
     "metadata": {},
     "output_type": "execute_result"
    }
   ],
   "source": [
    "# MSE\n",
    "np.mean(np.square(np.array(np.mean(boot_yhat, axis=1)) - np.array(boot_real_y)))"
   ]
  },
  {
   "cell_type": "markdown",
   "id": "5937fbc2-0a9a-4359-a4f1-68c91340362d",
   "metadata": {},
   "source": [
    "# Delta Method"
   ]
  },
  {
   "cell_type": "code",
   "execution_count": 8,
   "id": "c7982e96-e314-437d-a5b1-46480df88693",
   "metadata": {},
   "outputs": [
    {
     "name": "stdout",
     "output_type": "stream",
     "text": [
      "[-20.65539797 -36.61130404  -9.79114452]\n"
     ]
    }
   ],
   "source": [
    "diff_data = pd.read_csv(\"../data/ortiz-bobea/data2/ortiz_stdp_diff_pred.csv\")\n",
    "num_predictions = 1000\n",
    "gcm_global_impacts = {}\n",
    "\n",
    "for row in diff_data.iterrows():\n",
    "    row = row[1]\n",
    "    gcm = row.gcm\n",
    "    year = row.year\n",
    "    country = row.iso3\n",
    "    pred = row.yhat\n",
    "    err = row.stdp\n",
    "    if gcm not in gcm_global_impacts:\n",
    "        gcm_global_impacts[gcm] = {}\n",
    "    if year not in gcm_global_impacts[gcm]:\n",
    "        gcm_global_impacts[gcm][year] = []\n",
    "    gcm_global_impacts[gcm][year].append([sample*country_weights[country] for sample in np.random.normal(pred,err,num_predictions)])\n",
    "\n",
    "delta_cumulative_gcm_global_impacts = {}\n",
    "for gcm in gcm_data.keys():\n",
    "    year_vals = []\n",
    "    for year, country_samples in gcm_global_impacts[gcm].items():\n",
    "        year_vals.append(np.sum(country_samples,axis=0))\n",
    "    delta_cumulative_gcm_global_impacts[gcm] = np.transpose(np.cumsum(year_vals,axis=0))\n",
    "\n",
    "delta_gcm_averages = {gcm:(math.exp(np.mean(delta_cumulative_gcm_global_impacts[gcm][:,-1]))-1)*100 for gcm in gcm_data}\n",
    "delta_sim_res, delta_interval = sample_from_global_impacts(delta_cumulative_gcm_global_impacts)"
   ]
  },
  {
   "cell_type": "code",
   "execution_count": 19,
   "id": "ac45ed9c-addb-48e9-ab5b-606e678a1db2",
   "metadata": {},
   "outputs": [
    {
     "data": {
      "text/plain": [
       "-0.12867194700034268"
      ]
     },
     "execution_count": 19,
     "metadata": {},
     "output_type": "execute_result"
    }
   ],
   "source": [
    "math.exp(np.mean(delta_cumulative_gcm_global_impacts[gcm][:,-1]))-1"
   ]
  },
  {
   "cell_type": "code",
   "execution_count": 14,
   "id": "b4dad046-cde8-4a40-8590-bd305f8bf5c0",
   "metadata": {},
   "outputs": [
    {
     "data": {
      "text/plain": [
       "-12.867194700034268"
      ]
     },
     "execution_count": 14,
     "metadata": {},
     "output_type": "execute_result"
    }
   ],
   "source": [
    "delta_gcm_averages[gcm]"
   ]
  },
  {
   "cell_type": "code",
   "execution_count": 3,
   "id": "c66644d0-046b-410e-afd3-714489556df1",
   "metadata": {},
   "outputs": [
    {
     "name": "stdout",
     "output_type": "stream",
     "text": [
      "0.9567901234567902\n",
      "0.043209876543209874\n"
     ]
    }
   ],
   "source": [
    "in_range = 0\n",
    "out_range = 0\n",
    "delta_lowers, delta_uppers = [], []\n",
    "delta_real_y = []\n",
    "\n",
    "# delta_yhat = pd.read_csv(\"../data/ortiz-bobea/data2/ortiz_stdp_pred_outsample.csv\")\n",
    "delta_yhat = pd.read_csv(\"../data/ortiz-bobea/data2/ortiz_stdf_pred_outsample.csv\")\n",
    "for row in enumerate(delta_yhat.sort_values(by=\"fd_log_tfp\").itertuples()):\n",
    "    lower = row[1].lower\n",
    "    upper = row[1].upper\n",
    "    delta_real_y.append(row[1].fd_log_tfp)\n",
    "    if lower <= delta_real_y[-1] and upper >= delta_real_y[-1]:\n",
    "        in_range += 1\n",
    "    else:\n",
    "        out_range += 1\n",
    "    delta_lowers.append(lower), delta_uppers.append(upper)\n",
    "\n",
    "print(in_range / len(delta_yhat))\n",
    "print(out_range / len(delta_yhat))"
   ]
  },
  {
   "cell_type": "code",
   "execution_count": 32,
   "id": "a2d538bc-2639-49ff-9ae8-d1b5cb9c6c62",
   "metadata": {},
   "outputs": [
    {
     "data": {
      "text/plain": [
       "0.007424867032776244"
      ]
     },
     "execution_count": 32,
     "metadata": {},
     "output_type": "execute_result"
    }
   ],
   "source": [
    "# MSE\n",
    "np.mean(np.square(np.array(delta_yhat.yhat) - np.array(delta_real_y)))"
   ]
  },
  {
   "cell_type": "markdown",
   "id": "097bdb15-8b14-425d-b6f8-9bb80571322b",
   "metadata": {},
   "source": [
    "# Make Figure"
   ]
  },
  {
   "cell_type": "code",
   "execution_count": 21,
   "id": "ec10a4f1-5724-4e3d-98aa-65642138a4d0",
   "metadata": {},
   "outputs": [],
   "source": [
    "colors = {\"Bayes\":\"orange\",\"Bootstrap\":\"green\",\"Delta\":\"purple\"}"
   ]
  },
  {
   "cell_type": "code",
   "execution_count": 24,
   "id": "d811afe6-8efa-4bf1-ba7f-b8f81d07f783",
   "metadata": {},
   "outputs": [
    {
     "data": {
      "image/png": "[encoded data removed]",
      "text/plain": [
       "<Figure size 1500x400 with 3 Axes>"
      ]
     },
     "metadata": {},
     "output_type": "display_data"
    }
   ],
   "source": [
    "gcm_line_colors = [\"black\",\"yellow\",\"red\",\"green\",\"purple\",\"lime\",\"blue\"]\n",
    "\n",
    "def make_hist_plot(axis, data, interval, color, labels, show_hist=True):\n",
    "    x = np.linspace(np.mean(data) - 3*np.std(data), np.mean(data) + 3*np.std(data), 100)\n",
    "    if show_hist:\n",
    "        sns.histplot(data,bins=200,color=color,stat=\"density\", ax=axis)\n",
    "    sns.kdeplot(data, ax=axis, color=\"black\")\n",
    "    axis.set_xlim(min(x)-1.5, max(x)+1.5)\n",
    "    axis.xaxis.label.set_size(13)\n",
    "    axis.yaxis.label.set_size(20)\n",
    "    axis.xaxis.set_tick_params(labelsize=15)\n",
    "    axis.yaxis.set_tick_params(labelsize=15)\n",
    "    # for index, (gcm, gcm_average) in enumerate(bayes_gcm_averages.items()):\n",
    "    #     color = gcm_line_colors[index]\n",
    "    #     axis.axvline(x = gcm_average, color = color, lw=2, label = gcm)\n",
    "    axis.axvline(x = interval[1], color = 'dodgerblue', lw = 4, label = labels[1])\n",
    "    axis.axvline(x = interval[2], color = 'dodgerblue', lw = 4, label = labels[2])\n",
    "    axis.axvline(x = np.mean(data), color = 'red', lw = 4, label = labels[2])\n",
    "    axis.set_xlabel(\"% Historical TFP Decrease (1962-2015)\", weight=\"bold\")\n",
    "    axis.set_ylabel(\"Probability Density\", weight=\"bold\")\n",
    "    axis.set_title(labels[3], weight=\"bold\")\n",
    "    axis.title.set_size(25)\n",
    "\n",
    "def make_pred_int_plots(axis, lowers, uppers, real_y, color, label):\n",
    "    axis.scatter(lowers, list(range(len(lowers))), color=color, s=10)\n",
    "    axis.scatter(uppers, list(range(len(lowers))), color=color, s=10)\n",
    "    axis.scatter(real_y, list(range(len(lowers))), color=\"red\", s=10)\n",
    "    last_line = None\n",
    "    for index in range(len(lowers)):\n",
    "        if last_line != None:\n",
    "            axis.add_patch(\n",
    "                patches.Polygon(\n",
    "                    xy=[[last_line[0],index-1],[last_line[1],index-1],[uppers[index],index],[lowers[index],index]]\n",
    "                )\n",
    "            )\n",
    "        last_line = [lowers[index],uppers[index]]\n",
    "    axis.set_xlabel(\"Δln(TFP)\", weight=\"bold\")\n",
    "    axis.set_ylabel(\"Withheld Row #\", weight=\"bold\")\n",
    "    axis.xaxis.label.set_size(20)\n",
    "    axis.yaxis.label.set_size(20)\n",
    "    axis.xaxis.set_tick_params(labelsize=15)\n",
    "    axis.yaxis.set_tick_params(labelsize=15)\n",
    "    axis.set_title(label, weight=\"bold\")\n",
    "    axis.title.set_size(25)\n",
    "    axis.set_xlim(-.2, .2)\n",
    "\n",
    "fig, axes = plt.subplots(1,3, figsize=(15,4))\n",
    "\n",
    "make_hist_plot(axes[0], bayes_res, bayes_interval, colors[\"Bayes\"],\n",
    "    labels=[\n",
    "    'Bayesian Inference Vertex Mean', 'Bayesian Inference Vertex Lower Bound',\n",
    "    'Bayesian Inference Vertex Upper Bound','Bayesian Inference'\n",
    "])\n",
    "make_hist_plot(axes[1], boot_res, boot_interval, colors[\"Bootstrap\"],\n",
    "    labels=[\n",
    "    'Block Bootstrap Vertex Mean', 'Block Bootstrap Vertex Lower Bound',\n",
    "    'Block Bootstrap Vertex Upper Bound', 'Block Bootstrap'\n",
    "])\n",
    "make_hist_plot(axes[2], delta_sim_res, delta_interval, colors[\"Delta\"], show_hist=False,\n",
    "    labels=[\n",
    "    'Delta Method Vertex Mean', 'Delta Method Vertex Lower Bound',\n",
    "    'Delta Method Vertex Upper Bound', 'Delta Method'\n",
    "])\n",
    "\n",
    "# make_pred_int_plots(axes[0], bayes_lowers, bayes_uppers, bayes_real_y, colors[\"Bayes\"], \"Bayesian Inference\")\n",
    "# make_pred_int_plots(axes[1], boot_lowers, boot_uppers, boot_real_y, colors[\"Bootstrap\"], \"Block Bootstrap\")\n",
    "# make_pred_int_plots(axes[2], delta_lowers, delta_uppers, delta_real_y, colors[\"Delta\"], \"Delta Method\")\n",
    "\n",
    "fig.tight_layout()\n",
    "\n",
    "plt.savefig(\"../figures/ortiz_hists.png\", bbox_inches='tight')"
   ]
  }
 ],
 "metadata": {
  "kernelspec": {
   "display_name": "Python 3 (ipykernel)",
   "language": "python",
   "name": "python3"
  },
  "language_info": {
   "codemirror_mode": {
    "name": "ipython",
    "version": 3
   },
   "file_extension": ".py",
   "mimetype": "text/x-python",
   "name": "python",
   "nbconvert_exporter": "python",
   "pygments_lexer": "ipython3",
   "version": "3.10.12"
  }
 },
 "nbformat": 4,
 "nbformat_minor": 5
}
