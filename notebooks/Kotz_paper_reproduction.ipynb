{
 "cells": [
  {
   "cell_type": "code",
   "execution_count": 1,
   "id": "3102d38c-a2c0-4bd9-8dd7-9071454e4d52",
   "metadata": {},
   "outputs": [],
   "source": [
    "import pandas as pd\n",
    "import numpy as np\n",
    "import pickle as pkl\n",
    "from statsmodels.tsa.statespace.tools import diff\n",
    "from statsmodels.tsa.tsatools import add_lag\n",
    "import geopandas as gpd\n",
    "import matplotlib.pyplot as plt\n",
    "import matplotlib.colors as mcolors\n",
    "from sklearn.model_selection import StratifiedShuffleSplit\n",
    "from sklearn.preprocessing import OrdinalEncoder"
   ]
  },
  {
   "cell_type": "code",
   "execution_count": 2,
   "id": "1aa2e520-4af8-4108-83d9-2d7aeb41f8ea",
   "metadata": {},
   "outputs": [],
   "source": [
    "data = pd.read_stata(\"../data/kotz/data/T_econ.dta\")\n",
    "data[\"T5_mean_diff\"] = diff(data[\"T5_mean\"])\n",
    "data[\"T5_mean_diff_lag\"] = np.insert(add_lag(data[\"T5_mean_diff\"])[:,1], 0, np.NaN)\n",
    "data[\"T5_seas_diff_mXT5_varm\"] = data[\"T5_seas_diff_m\"] * data[\"T5_varm\"]\n",
    "data[\"T5_mean_mXT5_mean_diff\"] = data[\"T5_mean_m\"] * data[\"T5_mean_diff\"]\n",
    "data[\"T5_mean_mXT5_mean_diff_lag\"] = data[\"T5_mean_m\"] * data[\"T5_mean_diff_lag\"]"
   ]
  },
  {
   "cell_type": "code",
   "execution_count": 23,
   "id": "1716b438-e0f6-4c4b-a7d1-39c2ed85ed81",
   "metadata": {},
   "outputs": [],
   "source": [
    "# make withheld data\n",
    "data = data.dropna(axis=0).reset_index(drop=True)\n",
    "data[\"stratify_key\"] = str(data.ID) + \"_\" + str(data.yearn)\n",
    "splits = StratifiedShuffleSplit(n_splits=1, test_size=.1).split(data, data.stratify_key)\n",
    "for (train_split, test_split) in splits:\n",
    "    training_rows = data.iloc[train_split]\n",
    "    test_rows = data.iloc[test_split]\n",
    "    training_rows.sort_values(by=[\"country\",\"ID\",\"yearn\"]).reset_index(drop=True).to_csv(\"../data/kotz/data/kotz_data_train.csv\")\n",
    "    test_rows.sort_values(by=[\"country\",\"ID\",\"yearn\"]).reset_index(drop=True).to_csv(\"../data/kotz/data/kotz_data_test.csv\")"
   ]
  },
  {
   "cell_type": "code",
   "execution_count": 3,
   "id": "8dc6884f-7912-4311-bc46-714c9adca2c9",
   "metadata": {},
   "outputs": [],
   "source": [
    "model = pd.read_pickle(\"../models/nature_reproduction/kotz_reproduction_covar_coefs_only.pkl\")\n",
    "t5_coef = model[\"t5_varm\"].data.flatten() * np.std(data.dlgdp_pc_usd) / np.std(data.T5_varm) * 100\n",
    "t5_seas_diff_mXt5_varm_data = model[\"t5_seas_diff_mXt5_varm\"].data.flatten() * np.std(data.dlgdp_pc_usd) / np.std(data.T5_seas_diff_mXT5_varm) * 100"
   ]
  },
  {
   "cell_type": "code",
   "execution_count": 4,
   "id": "3b0f1d34-0367-4048-b985-bae5f809b6a2",
   "metadata": {},
   "outputs": [],
   "source": [
    "maskc=gpd.read_file('../data/kotz/data/gadm36_levels.gpkg')"
   ]
  },
  {
   "cell_type": "code",
   "execution_count": 5,
   "id": "9157b366-619a-4ea4-a3d7-cc66d586fab3",
   "metadata": {},
   "outputs": [],
   "source": [
    "mask=gpd.read_file('../data/kotz/data/gadm36_levels.gpkg',layer=1)"
   ]
  },
  {
   "cell_type": "code",
   "execution_count": 13,
   "id": "46a8fbe9-29a7-4104-924c-ad6b73708c26",
   "metadata": {},
   "outputs": [],
   "source": [
    "GID0list=pd.unique(mask.GID_0)\n",
    "isolist=pd.unique(data.iso)\n",
    "\n",
    "#empty list to hold values\n",
    "proj=[]\n",
    "\n",
    "#calculate marginal effects to plot \n",
    "for i in range(len(GID0list)):\n",
    "\tiso=GID0list[i]\n",
    "\tno_regions=len(mask.loc[mask.GID_0==iso])\n",
    "\tif iso in isolist:\n",
    "\t\twlrd1list=pd.unique(data.loc[data.iso==iso,'wrld1id_1'])\n",
    "\t\tfor j in range(no_regions):\n",
    "\t\t\treg_no=j+1\n",
    "\t\t\tif reg_no in wlrd1list:\t\n",
    "\t\t\t\tT_diff=data.loc[(data.iso==iso) & (data.wrld1id_1==reg_no),'T5_seas_diff_m'].mean()\n",
    "\t\t\t\tproj.append(sorted(t5_coef + t5_seas_diff_mXt5_varm_data*T_diff))\n",
    "\t\t\telse:\t\n",
    "\t\t\t\tproj.append([np.nan]*len(t5_coef))\n",
    "\telse:\n",
    "\t\tfor j in range(no_regions):\n",
    "\t\t\tproj.append([np.nan]*len(t5_coef))\n",
    "\n",
    "# for quantile in range(5, 105, 10):\n",
    "# for quantile in [5, 50, 95]:\n",
    "# print(\"Quantile:\", quantile)\n",
    "# proj_quant_data = list(map(lambda x: np.quantile(x, quantile/100), proj))\n",
    "quantile = \"diff_95-5\"\n",
    "proj_quant_data = list(map(lambda x: (np.quantile(x, .95) - np.quantile(x, .05)), proj))\n",
    "\n",
    "mask[f'T5_varm_marg_losses_quant_{quantile}']=proj_quant_data\n",
    "\n",
    "#generate divergent colormap\n",
    "colors1 = np.flip(plt.cm.Blues_r(np.linspace(0., 1, 100)),0)\n",
    "colors3 = np.flip(plt.cm.Reds(np.linspace(0, 1, 100)),0)\n",
    "colors2 = np.array([1,1,1,1])\n",
    "\n",
    "vmax=5\n",
    "vmin=-5\n",
    "colors = np.vstack((colors3, colors2, colors1))\n",
    "\n",
    "my_cmap = mcolors.LinearSegmentedColormap.from_list('my_colormap', colors)\n",
    "#my_cmap = shiftedColorMap(my_cmap, start=vmin, stop = vmax, midpoint=0, name='my_cmap')\n",
    "divnorm = mcolors.TwoSlopeNorm(vmin=vmin, vcenter=0, vmax=vmax)\n",
    "\n",
    "degree_sign= u'\\N{DEGREE SIGN}'\n",
    "C=degree_sign + 'C'\n",
    "\n",
    "#simplify shapefile geometry for plotting\n",
    "mask['geometry_simpl']=mask.geometry.simplify(tolerance=720/43200,preserve_topology=True)\n",
    "mask_simp=mask.copy()\n",
    "mask_simp['geometry']=mask_simp.geometry.simplify(tolerance=720/43200,preserve_topology=True)\n",
    "\n",
    "degree_sign= u'\\N{DEGREE SIGN}'\n",
    "C=degree_sign + 'C'\n",
    "fs=7\n",
    "cm=1/2.54\n",
    "vmin=0\n",
    "vmax=5\n",
    "i=5\n",
    "plt.close()\n",
    "fig, ax = plt.subplots(1, 1,figsize=(18*cm,(9+0.5)*cm))\n",
    "#maskc.plot(ax=ax,edgecolor='black',linewidth=0.1,color='grey')\n",
    "# mask_simp[~mask_simp[f'T5_varm_marg_losses_quant_{quantile}'].isnull()].plot(ax=ax,column=f'T5_varm_marg_losses_quant_{quantile}',cmap='Reds_r',vmin=vmin,vmax=vmax)\n",
    "mask_simp[~mask_simp[f'T5_varm_marg_losses_quant_{quantile}'].isnull()].plot(ax=ax,column=f'T5_varm_marg_losses_quant_{quantile}',cmap='Reds',vmin=vmin,vmax=vmax)\n",
    "mask_simp[mask_simp[f'T5_varm_marg_losses_quant_{quantile}'].isnull()].plot(ax=ax,color='grey')\n",
    "ax.set_ylim([-60,85])\n",
    "ax.set_xlim([-180,180])\n",
    "ax.tick_params(labelsize='large')\n",
    "# sm = plt.cm.ScalarMappable(cmap='Reds_r', norm=plt.Normalize(vmin=vmin,vmax=vmax))\n",
    "sm = plt.cm.ScalarMappable(cmap='Reds', norm=plt.Normalize(vmin=vmin,vmax=vmax))\n",
    "sm._A = []\n",
    "ax.tick_params(bottom=False,left=False,labelbottom=False,labelleft=False)\n",
    "cbar = fig.colorbar(sm,ax = ax,orientation='horizontal',fraction=0.046, pad=0.05)\n",
    "cbar.set_label('Change in growth rates per extra degree of day-to-day temperature variability (%-points)',rotation=0, labelpad = 12, fontsize=fs)\n",
    "cbar.ax.tick_params(labelsize=fs)\n",
    "plt.savefig(f'../figures/kotz_maps/kotz_fig2_quant_{quantile}.pdf',dpi=600,bbox_inches='tight',pad_inches=0)\n",
    "plt.close()"
   ]
  }
 ],
 "metadata": {
  "kernelspec": {
   "display_name": "Python 3 (ipykernel)",
   "language": "python",
   "name": "python3"
  },
  "language_info": {
   "codemirror_mode": {
    "name": "ipython",
    "version": 3
   },
   "file_extension": ".py",
   "mimetype": "text/x-python",
   "name": "python",
   "nbconvert_exporter": "python",
   "pygments_lexer": "ipython3",
   "version": "3.10.12"
  }
 },
 "nbformat": 4,
 "nbformat_minor": 5
}
