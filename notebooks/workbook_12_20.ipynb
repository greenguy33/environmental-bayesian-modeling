{
 "cells": [
  {
   "cell_type": "code",
   "execution_count": 1,
   "id": "dbf572a8-a4ef-44d5-9feb-f7d0b0dfad9d",
   "metadata": {},
   "outputs": [],
   "source": [
    "import csv\n",
    "import os\n",
    "import pymc as pm\n",
    "from pymc import do, observe\n",
    "import pandas as pd\n",
    "import numpy as np\n",
    "import arviz as az\n",
    "from sklearn.preprocessing import StandardScaler, MinMaxScaler, OrdinalEncoder\n",
    "from pytensor import tensor as pt\n",
    "import pickle as pkl\n",
    "import matplotlib.pyplot as plt\n",
    "import scipy.stats as stats\n",
    "import seaborn as sns\n",
    "import itertools as it\n",
    "import country_converter as cc"
   ]
  },
  {
   "cell_type": "code",
   "execution_count": 3,
   "id": "b929a9e0-f7ae-4552-bda4-f8b3d8ebe783",
   "metadata": {},
   "outputs": [],
   "source": [
    "integrated_data = pd.read_csv(\"../data/processed/five_node_model_integrated_data.csv\")\n",
    "temp_scaler, precip_scaler, tfp_scaler = StandardScaler(), MinMaxScaler(), StandardScaler()\n",
    "normalized_temp = temp_scaler.fit_transform(np.array(integrated_data[\"Unweighted_Temp\"]).reshape(-1,1)).flatten()\n",
    "normalized_precip = precip_scaler.fit_transform(np.array(integrated_data[\"Precipitation\"]).reshape(-1,1)).flatten()\n",
    "normalized_tfp = tfp_scaler.fit_transform(np.array(integrated_data[\"TFP_Change\"]).reshape(-1,1)).flatten()"
   ]
  },
  {
   "cell_type": "markdown",
   "id": "be456eee-a713-4507-9124-ca3af7fdef62",
   "metadata": {},
   "source": [
    "### 12-19: I noticed that the global effect of temperature on ag tfp is lower than expected (-.05 TFP for 1.5C warming, -.1 TFP for 2.5C warming."
   ]
  },
  {
   "cell_type": "markdown",
   "id": "478f55b3-16ce-47c3-9d5b-fb3584600651",
   "metadata": {},
   "source": [
    "#### Possible explanations:\n",
    "1. Most of the effect of temp on tfp goes through precipitation and drought (-.7 TFP when drought)\n",
    "2. Only the warmer regions are negatively effected by rising temperature; the colder regions may even be helped by rising temperature"
   ]
  },
  {
   "cell_type": "markdown",
   "id": "81c5a2a8-c0a9-447f-8da6-89cd3401821f",
   "metadata": {},
   "source": [
    "#### Investigating explanation 1\n",
    "- Build model with only temperature and compare coefficients"
   ]
  },
  {
   "cell_type": "code",
   "execution_count": 26,
   "id": "e05ef851-3a40-4024-806f-087c7e6b677b",
   "metadata": {},
   "outputs": [
    {
     "name": "stderr",
     "output_type": "stream",
     "text": [
      "/Users/hayden.freedman/miniconda3/envs/pymc_causal_dev/lib/python3.11/site-packages/pymc/model/core.py:1323: ImputationWarning: Data in temp_posterior contains missing values and will be automatically imputed from the sampling distribution.\n",
      "  warnings.warn(impute_message, ImputationWarning)\n",
      "/Users/hayden.freedman/miniconda3/envs/pymc_causal_dev/lib/python3.11/site-packages/pymc/model/core.py:1323: ImputationWarning: Data in tfp_posterior contains missing values and will be automatically imputed from the sampling distribution.\n",
      "  warnings.warn(impute_message, ImputationWarning)\n",
      "Auto-assigning NUTS sampler...\n",
      "Initializing NUTS using jitter+adapt_diag...\n",
      "Multiprocess sampling (4 chains in 4 jobs)\n",
      "NUTS: [temp_mixture_weights, temp_prior, temp_std, temp_posterior_unobserved, temp_tfp_coef, temp_tfp_coef2, tfp_intercept, tfp_std, tfp_posterior_unobserved]\n"
     ]
    },
    {
     "data": {
      "text/html": [
       "\n",
       "<style>\n",
       "    /* Turns off some styling */\n",
       "    progress {\n",
       "        /* gets rid of default border in Firefox and Opera. */\n",
       "        border: none;\n",
       "        /* Needs to be in here for Safari polyfill so background images work as expected. */\n",
       "        background-size: auto;\n",
       "    }\n",
       "    progress:not([value]), progress:not([value])::-webkit-progress-bar {\n",
       "        background: repeating-linear-gradient(45deg, #7e7e7e, #7e7e7e 10px, #5c5c5c 10px, #5c5c5c 20px);\n",
       "    }\n",
       "    .progress-bar-interrupted, .progress-bar-interrupted::-webkit-progress-bar {\n",
       "        background: #F44336;\n",
       "    }\n",
       "</style>\n"
      ],
      "text/plain": [
       "<IPython.core.display.HTML object>"
      ]
     },
     "metadata": {},
     "output_type": "display_data"
    },
    {
     "data": {
      "text/html": [
       "\n",
       "    <div>\n",
       "      <progress value='8000' class='' max='8000' style='width:300px; height:20px; vertical-align: middle;'></progress>\n",
       "      100.00% [8000/8000 03:15&lt;00:00 Sampling 4 chains, 0 divergences]\n",
       "    </div>\n",
       "    "
      ],
      "text/plain": [
       "<IPython.core.display.HTML object>"
      ]
     },
     "metadata": {},
     "output_type": "display_data"
    },
    {
     "name": "stderr",
     "output_type": "stream",
     "text": [
      "Sampling 4 chains for 1_000 tune and 1_000 draw iterations (4_000 + 4_000 draws total) took 226 seconds.\n",
      "The rhat statistic is larger than 1.01 for some parameters. This indicates problems during sampling. See https://arxiv.org/abs/1903.08008 for details\n",
      "The effective sample size per chain is smaller than 100 for some parameters.  A higher number is needed for reliable rhat and ess computation. See https://arxiv.org/abs/1903.08008 for details\n"
     ]
    }
   ],
   "source": [
    "with pm.Model() as observed_temp_model:\n",
    "\n",
    "    temp_mw = pm.Dirichlet(\"temp_mixture_weights\", np.array([1]*3))\n",
    "    temp_prior = pm.Normal(\"temp_prior\", 0, 1, shape=(1,3))\n",
    "    temp_std = pm.HalfNormal(\"temp_std\", 1, shape=3)\n",
    "    temp_posterior = pm.NormalMixture(\n",
    "        \"temp_posterior\", \n",
    "        temp_mw, \n",
    "        temp_prior, \n",
    "        temp_std,\n",
    "        observed = normalized_temp\n",
    "    )\n",
    "    temp_tfp_coef = pm.Normal('temp_tfp_coef',0,10)\n",
    "    temp_tfp_coef2 = pm.Normal('temp_tfp_coef2',0,10)\n",
    "    tfp_intercept = pm.Normal('tfp_intercept',0,10)\n",
    "    tfp_prior = pm.Deterministic(\n",
    "        \"tfp_prior\",\n",
    "        tfp_intercept +\n",
    "        (temp_tfp_coef * temp_posterior) +\n",
    "        (temp_tfp_coef2 * pt.sqr(temp_posterior))\n",
    "    )\n",
    "    tfp_std = pm.HalfNormal('tfp_std', sigma=10)\n",
    "    tfp_posterior = pm.Normal('tfp_posterior', mu=tfp_prior, sigma=tfp_std, observed = normalized_tfp)\n",
    "\n",
    "    temp_only_trace = pm.sample()"
   ]
  },
  {
   "cell_type": "code",
   "execution_count": 38,
   "id": "c97f2aa3-8a90-4bb1-ba84-84370a9d4f5c",
   "metadata": {},
   "outputs": [
    {
     "name": "stdout",
     "output_type": "stream",
     "text": [
      "-0.03541401491077579\n",
      "0.01506787277690856\n",
      "-0.02464423278170637\n",
      "0.011379041775752847\n"
     ]
    }
   ],
   "source": [
    "print(np.mean(np.array(temp_only_trace.posterior.temp_tfp_coef).flatten()))\n",
    "print(np.std(np.array(temp_only_trace.posterior.temp_tfp_coef).flatten()))\n",
    "print(np.mean(np.array(temp_only_trace.posterior.temp_tfp_coef2).flatten()))\n",
    "print(np.std(np.array(temp_only_trace.posterior.temp_tfp_coef2).flatten()))"
   ]
  },
  {
   "cell_type": "code",
   "execution_count": 42,
   "id": "e1865e4f-1b37-4e34-8cf6-000a293d79a8",
   "metadata": {},
   "outputs": [
    {
     "name": "stdout",
     "output_type": "stream",
     "text": [
      "-0.028864015482541968\n",
      "0.015021390871132459\n",
      "-0.023729767349794005\n",
      "0.011037244625251057\n"
     ]
    }
   ],
   "source": [
    "global_trace = pd.read_pickle(f\"../models/temp_precip_drought_tfp_global.pkl\")[\"trace\"]\n",
    "global_temp_coef1 = np.mean(np.array(global_trace.posterior.temp_tfp_coef).flatten())\n",
    "print(global_temp_coef1)\n",
    "print(np.std(np.array(global_trace.posterior.temp_tfp_coef).flatten()))\n",
    "global_temp_coef2 = np.mean(np.array(global_trace.posterior.temp_tfp_coef2).flatten())\n",
    "print(global_temp_coef2)\n",
    "print(np.std(np.array(global_trace.posterior.temp_tfp_coef2).flatten()))"
   ]
  },
  {
   "cell_type": "code",
   "execution_count": 56,
   "id": "1c96e605-4694-4449-84e9-d00574412b5f",
   "metadata": {},
   "outputs": [
    {
     "name": "stdout",
     "output_type": "stream",
     "text": [
      "0.044528382540510725\n",
      "0.06192501074844725\n",
      "0.08059855597026694\n"
     ]
    }
   ],
   "source": [
    "model_0_res = []\n",
    "model_1_5_res = []\n",
    "model_2_0_res = []\n",
    "model_2_5_res = []\n",
    "\n",
    "mean_temp = temp_scaler.transform(np.array([val for val in integrated_data[\"Unweighted_Temp\"] if not np.isnan(val)]).reshape(-1,1)).flatten()\n",
    "mean_temp_1_5 = temp_scaler.transform(np.array([1.5 + val for val in integrated_data[\"Unweighted_Temp\"] if not np.isnan(val)]).reshape(-1,1)).flatten()\n",
    "mean_temp_2_0 = temp_scaler.transform(np.array([2.0 + val for val in integrated_data[\"Unweighted_Temp\"] if not np.isnan(val)]).reshape(-1,1)).flatten()\n",
    "mean_temp_2_5 = temp_scaler.transform(np.array([2.5 + val for val in integrated_data[\"Unweighted_Temp\"] if not np.isnan(val)]).reshape(-1,1)).flatten()\n",
    "\n",
    "for i in range(len(mean_temp)):\n",
    "    if not np.isnan(i):\n",
    "        model_0_res.append((mean_temp[i] * global_temp_coef1) + (mean_temp[i] * mean_temp[i] * global_temp_coef2))\n",
    "        model_1_5_res.append((mean_temp_1_5[i] * global_temp_coef1) + (mean_temp_1_5[i] * mean_temp_1_5[i] * global_temp_coef2))\n",
    "        model_2_0_res.append((mean_temp_2_0[i] * global_temp_coef1) + (mean_temp_2_0[i] * mean_temp_2_0[i] * global_temp_coef2))\n",
    "        model_2_5_res.append((mean_temp_2_5[i] * global_temp_coef1) + (mean_temp_2_5[i] * mean_temp_2_5[i] * global_temp_coef2))\n",
    "\n",
    "tfp_transformed_0 = tfp_scaler.inverse_transform(np.array(model_0_res).reshape(-1,1)).flatten()\n",
    "tfp_transformed_1_5 = tfp_scaler.inverse_transform(np.array(model_1_5_res).reshape(-1,1)).flatten()\n",
    "tfp_transformed_2_0 = tfp_scaler.inverse_transform(np.array(model_2_0_res).reshape(-1,1)).flatten()\n",
    "tfp_transformed_2_5 = tfp_scaler.inverse_transform(np.array(model_2_5_res).reshape(-1,1)).flatten()\n",
    "\n",
    "print(np.mean(tfp_transformed_0) - np.mean(tfp_transformed_1_5))\n",
    "print(np.mean(tfp_transformed_0) - np.mean(tfp_transformed_2_0))\n",
    "print(np.mean(tfp_transformed_0) - np.mean(tfp_transformed_2_5))"
   ]
  },
  {
   "cell_type": "code",
   "execution_count": 57,
   "id": "15c44054-0559-4794-88f8-dfdb1a3e3793",
   "metadata": {},
   "outputs": [
    {
     "name": "stdout",
     "output_type": "stream",
     "text": [
      "0.06783436911284663\n",
      "0.03740649393484065\n",
      "-0.0024944679445515813\n",
      "0.001204912392930932\n"
     ]
    }
   ],
   "source": [
    "global_trace = pd.read_pickle(f\"../models/temp_precip_drought_tfp_global_no_scale.pkl\")[\"trace\"]\n",
    "global_temp_coef1 = np.mean(np.array(global_trace.posterior.temp_tfp_coef).flatten())\n",
    "print(global_temp_coef1)\n",
    "print(np.std(np.array(global_trace.posterior.temp_tfp_coef).flatten()))\n",
    "global_temp_coef2 = np.mean(np.array(global_trace.posterior.temp_tfp_coef2).flatten())\n",
    "print(global_temp_coef2)\n",
    "print(np.std(np.array(global_trace.posterior.temp_tfp_coef2).flatten()))"
   ]
  },
  {
   "cell_type": "code",
   "execution_count": 62,
   "id": "c3310a91-6953-4812-bf1e-8ce345e78bd8",
   "metadata": {},
   "outputs": [
    {
     "name": "stdout",
     "output_type": "stream",
     "text": [
      "0.044001461286752835\n",
      "0.06116308299355533\n",
      "0.07957193867263365\n"
     ]
    }
   ],
   "source": [
    "model_0_res = []\n",
    "model_1_5_res = []\n",
    "model_2_0_res = []\n",
    "model_2_5_res = []\n",
    "\n",
    "temp_data = [val for val in integrated_data[\"Unweighted_Temp\"] if not np.isnan(val)]\n",
    "\n",
    "for i in range(len(temp_data)):\n",
    "    if not np.isnan(i):\n",
    "        model_0_res.append((temp_data[i] * global_temp_coef1) + (temp_data[i] * temp_data[i] * global_temp_coef2))\n",
    "        model_1_5_res.append(((temp_data[i] + 1.5) * global_temp_coef1) + ((temp_data[i] + 1.5) * (temp_data[i] + 1.5) * global_temp_coef2))\n",
    "        model_2_0_res.append(((temp_data[i] + 2.0) * global_temp_coef1) + ((temp_data[i] + 2.0) * (temp_data[i] + 2.0) * global_temp_coef2))\n",
    "        model_2_5_res.append(((temp_data[i] + 2.5) * global_temp_coef1) + ((temp_data[i] + 2.5) * (temp_data[i] + 2.5) * global_temp_coef2))\n",
    "\n",
    "print(np.mean(model_0_res) - np.mean(model_1_5_res))\n",
    "print(np.mean(model_0_res) - np.mean(model_2_0_res))\n",
    "print(np.mean(model_0_res) - np.mean(model_2_5_res))"
   ]
  },
  {
   "cell_type": "markdown",
   "id": "7ab128e7-0141-4646-a157-066d9b10b3a5",
   "metadata": {},
   "source": [
    "### It appears that the effect size is roughly the same between a temp-only model and the full model, and that the data scaling is not the issue\n",
    "#### This validates yesterday's approach and results"
   ]
  },
  {
   "cell_type": "markdown",
   "id": "bce4d79d-cd24-4161-837d-30f7e26e3ae6",
   "metadata": {},
   "source": [
    "#### Investigating explanation 2"
   ]
  },
  {
   "cell_type": "code",
   "execution_count": 69,
   "id": "c099992d-9a97-45b7-b89d-69dd562d22de",
   "metadata": {},
   "outputs": [],
   "source": [
    "countries_by_region = {}\n",
    "data_by_region = {}\n",
    "for country in set(integrated_data[\"Country\"]):\n",
    "    region = cc.convert(country, to=\"UNregion\")\n",
    "    if region not in countries_by_region:\n",
    "        countries_by_region[region] = []\n",
    "    countries_by_region[region].append(country)\n",
    "for region, countries in countries_by_region.items():\n",
    "    regional_data = integrated_data.loc[(integrated_data[\"Country\"].isin(countries))]\n",
    "    data_by_region[region] = regional_data"
   ]
  },
  {
   "cell_type": "code",
   "execution_count": 76,
   "id": "65c8d77a-f5f8-4b1d-86b3-ef3802da0aba",
   "metadata": {},
   "outputs": [
    {
     "name": "stdout",
     "output_type": "stream",
     "text": [
      "Middle Africa\n",
      "Mean temperature: 24.91930546669173\n",
      "0.003228036267629947\n",
      "0.0054682133004346455\n",
      "0.008549307758330925\n",
      "Australia and New Zealand\n",
      "Mean temperature: 15.827711562763158\n",
      "0.12735970013726639\n",
      "0.16229503980764326\n",
      "0.19155835500233068\n",
      "Southern Asia\n",
      "Mean temperature: 18.918324394881576\n",
      "-0.010947922371868615\n",
      "-0.016081722086597874\n",
      "-0.02236296120386417\n",
      "Northern America\n",
      "Mean temperature: 0.5982907999298248\n",
      "0.028504899205202515\n",
      "0.038767987698627486\n",
      "0.049566661738681225\n",
      "South America\n",
      "Mean temperature: 21.134287506415205\n",
      "-0.0089205667068877\n",
      "-0.012980359387851146\n",
      "-0.017899516687323327\n",
      "Eastern Asia\n",
      "Mean temperature: 7.192924345127193\n",
      "0.055751700005376964\n",
      "0.08944997817444458\n",
      "0.13445034584034346\n",
      "South-eastern Asia\n",
      "Mean temperature: 25.237569583114038\n",
      "0.0026189036201683894\n",
      "0.004220099507007259\n",
      "0.006311708684412734\n",
      "Central America\n",
      "Mean temperature: 24.05471369350877\n",
      "0.01946246378051418\n",
      "0.02759573907508503\n",
      "0.03692789945252726\n",
      "Northern Africa\n",
      "Mean temperature: 21.98016042204678\n",
      "-0.0010202056413920607\n",
      "-0.0013640036406883556\n",
      "-0.0017867040878195087\n",
      "Western Asia\n",
      "Mean temperature: 19.184723329070174\n",
      "0.025279656233651075\n",
      "0.036335751920977606\n",
      "0.04928200729570106\n",
      "Caribbean\n",
      "Mean temperature: 24.924344767568922\n",
      "0.004680645909925471\n",
      "0.006905406163897829\n",
      "0.009584993026367878\n",
      "Northern Europe\n",
      "Mean temperature: 4.969871730791228\n",
      "-0.00832589699985881\n",
      "-0.010531097033077443\n",
      "-0.012346862208752175\n",
      "Melanesia\n",
      "Mean temperature: 24.82020195631579\n",
      "0.0040739576798760665\n",
      "0.011671968928725157\n",
      "0.023899559598417556\n",
      "Central Asia\n",
      "Mean temperature: 7.95525919783158\n",
      "0.00919472175068552\n",
      "0.013737533219826655\n",
      "0.019332580172119106\n",
      "Southern Africa\n",
      "Mean temperature: 18.254778927473684\n",
      "0.021747784391534245\n",
      "0.034008893143736\n",
      "0.049966328309147046\n",
      "Western Africa\n",
      "Mean temperature: 26.781384220953953\n",
      "-0.002640496430972708\n",
      "-0.003523242355357341\n",
      "-0.004456884821112058\n",
      "Eastern Europe\n",
      "Mean temperature: 6.625137263531328\n",
      "-0.017089599974789024\n",
      "-0.024562674647801354\n",
      "-0.033419670831420376\n",
      "Eastern Africa\n",
      "Mean temperature: 22.92908616924427\n",
      "-0.005579795492284164\n",
      "-0.009233403943055043\n",
      "-0.014281492132468066\n",
      "Western Europe\n",
      "Mean temperature: 8.19224370940351\n",
      "0.01019713459186393\n",
      "0.018240117810855622\n",
      "0.029737519154270198\n",
      "Southern Europe\n",
      "Mean temperature: 13.283170162561403\n",
      "-0.01436787717874504\n",
      "-0.020648193854550537\n",
      "-0.028091856038314995\n"
     ]
    }
   ],
   "source": [
    "regional_model_files = os.listdir(\"../models/regional_models\")\n",
    "for file in regional_model_files:\n",
    "    region = file.split(\"tfp_\")[1].split(\".\")[0]\n",
    "    print(region)\n",
    "    regional_model = pd.read_pickle(f\"../models/regional_models/{file}\")\n",
    "    regional_temp_scaler = regional_model[\"temp_scaler\"]\n",
    "    regional_tfp_scaler = regional_model[\"tfp_scaler\"]\n",
    "    regional_trace = regional_model[\"trace\"]\n",
    "    temp_coef_1 = np.mean(np.array(regional_trace.posterior.temp_tfp_coef).flatten())\n",
    "    temp_coef_2 = np.mean(np.array(regional_trace.posterior.temp_tfp_coef2).flatten())\n",
    "    scaled_temp_data = regional_temp_scaler.transform(np.array(data_by_region[region][\"Unweighted_Temp\"]).reshape(-1,1)).flatten()\n",
    "    model_0_res, model_1_5_res, model_2_0_res, model_2_5_res = [], [], [], []\n",
    "    for temp in scaled_temp_data:\n",
    "        if not np.isnan(temp):\n",
    "            model_0_res.append((temp * global_temp_coef1) + (temp * temp * global_temp_coef2))\n",
    "            model_1_5_res.append(((temp + 1.5) * temp_coef_1) + ((temp + 1.5) * (temp + 1.5) * temp_coef_2))\n",
    "            model_2_0_res.append(((temp + 2.0) * temp_coef_1) + ((temp + 2.0) * (temp + 2.0) * temp_coef_2))\n",
    "            model_2_5_res.append(((temp + 2.5) * temp_coef_1) + ((temp + 2.5) * (temp + 2.5) * temp_coef_2))\n",
    "\n",
    "    tfp_transformed_0 = regional_tfp_scaler.inverse_transform(np.array(model_0_res).reshape(-1,1)).flatten()\n",
    "    tfp_transformed_1_5 = regional_tfp_scaler.inverse_transform(np.array(model_1_5_res).reshape(-1,1)).flatten()\n",
    "    tfp_transformed_2_0 = regional_tfp_scaler.inverse_transform(np.array(model_2_0_res).reshape(-1,1)).flatten()\n",
    "    tfp_transformed_2_5 = regional_tfp_scaler.inverse_transform(np.array(model_2_5_res).reshape(-1,1)).flatten()\n",
    "\n",
    "    print(\"Mean temperature:\", np.mean(data_by_region[region][\"Unweighted_Temp\"]))\n",
    "    print(np.mean(tfp_transformed_0) - np.mean(tfp_transformed_1_5))\n",
    "    print(np.mean(tfp_transformed_0) - np.mean(tfp_transformed_2_0))\n",
    "    print(np.mean(tfp_transformed_0) - np.mean(tfp_transformed_2_5))"
   ]
  },
  {
   "cell_type": "markdown",
   "id": "0c3d793e-0994-4fa6-9bed-325199fb228f",
   "metadata": {},
   "source": [
    "#### At first glance there is not a regional relationship between mean temperature/effect on temp increase on ag tfp"
   ]
  },
  {
   "cell_type": "markdown",
   "id": "5ae95e78-6ae0-485e-beb3-99c6d755f201",
   "metadata": {},
   "source": [
    "# Use hist-nat and historical temp values from 2015-2020"
   ]
  },
  {
   "cell_type": "code",
   "execution_count": 111,
   "id": "07a6c761-832a-48c3-af20-a4cf20ff8b5f",
   "metadata": {},
   "outputs": [
    {
     "name": "stdout",
     "output_type": "stream",
     "text": [
      "[ 1.0265657   1.69431661  6.44849383 ... 25.21599029 23.81814192\n",
      " 22.96967276]\n"
     ]
    }
   ],
   "source": [
    "# process data\n",
    "hist_nat = pd.read_csv(\"../data/ortiz-bobea/data2/CMIP6_co/hist-nat_BCC-CSM2-MR_1948-2020_both.csv\")\n",
    "hist = pd.read_csv(\"../data/ortiz-bobea/data2/CMIP6_co/historical_BCC-CSM2-MR_1948-2020_both.csv\")\n",
    "hist_nat = pd.concat([hist_nat[\"tasmax\"] - 273, hist_nat[\"tasmin\"] - 273],axis=1)\n",
    "hist_nat_mean = np.array(np.mean(hist_nat, axis=1))\n",
    "print(hist_nat_mean)\n",
    "hist = pd.concat([hist[\"tasmax\"] - 273, hist[\"tasmin\"] - 273],axis=1)\n",
    "hist_mean = np.array(np.mean(hist, axis=1))"
   ]
  },
  {
   "cell_type": "code",
   "execution_count": 107,
   "id": "50b50ae3-1dec-4688-b309-a9a509f93a21",
   "metadata": {},
   "outputs": [
    {
     "name": "stdout",
     "output_type": "stream",
     "text": [
      "-0.028864015482541968\n",
      "0.015021390871132459\n",
      "-0.023729767349794005\n",
      "0.011037244625251057\n"
     ]
    }
   ],
   "source": [
    "global_trace = pd.read_pickle(f\"../models/temp_precip_drought_tfp_global.pkl\")[\"trace\"]\n",
    "global_temp_coef1 = np.mean(np.array(global_trace.posterior.temp_tfp_coef).flatten())\n",
    "print(global_temp_coef1)\n",
    "print(np.std(np.array(global_trace.posterior.temp_tfp_coef).flatten()))\n",
    "global_temp_coef2 = np.mean(np.array(global_trace.posterior.temp_tfp_coef2).flatten())\n",
    "print(global_temp_coef2)\n",
    "print(np.std(np.array(global_trace.posterior.temp_tfp_coef2).flatten()))"
   ]
  },
  {
   "cell_type": "code",
   "execution_count": 113,
   "id": "110858cc-6d4a-4184-81d9-45d9f8ca07ac",
   "metadata": {},
   "outputs": [
    {
     "name": "stdout",
     "output_type": "stream",
     "text": [
      "-0.025119151714475707\n"
     ]
    }
   ],
   "source": [
    "hist_res = []\n",
    "hist_nat_res = []\n",
    "\n",
    "hist_scaled = temp_scaler.transform(np.array(hist_mean).reshape(-1,1)).flatten()\n",
    "hist_nat_scaled = temp_scaler.transform(np.array(hist_nat_mean).reshape(-1,1)).flatten()\n",
    "\n",
    "for i in range(len(hist_scaled)):\n",
    "    hist_res.append((hist_scaled[i] * temp_coef_1) + (hist_scaled[i] * hist_scaled[i] * temp_coef_2))\n",
    "    hist_nat_res.append((hist_nat_scaled[i] * temp_coef_1) + (hist_nat_scaled[i] * hist_nat_scaled[i] * temp_coef_2))\n",
    "\n",
    "tfp_transformed_hist = tfp_scaler.inverse_transform(np.array(hist_res).reshape(-1,1)).flatten()\n",
    "tfp_transformed_hist_nat = tfp_scaler.inverse_transform(np.array(hist_nat_res).reshape(-1,1)).flatten()\n",
    "\n",
    "print(np.mean(tfp_transformed_hist_nat - tfp_transformed_hist))"
   ]
  },
  {
   "cell_type": "code",
   "execution_count": 112,
   "id": "7f2f4c52-beb7-4bdc-8085-9e636bb250b5",
   "metadata": {},
   "outputs": [
    {
     "name": "stdout",
     "output_type": "stream",
     "text": [
      "18.104758744823663\n",
      "18.485149190098202\n"
     ]
    }
   ],
   "source": [
    "print(np.mean(hist_nat_mean))\n",
    "print(np.mean(hist_mean))"
   ]
  },
  {
   "cell_type": "code",
   "execution_count": null,
   "id": "220a4d40-2903-479b-a288-1545edab4c52",
   "metadata": {},
   "outputs": [],
   "source": []
  }
 ],
 "metadata": {
  "kernelspec": {
   "display_name": "Python (pymc_causal_dev)",
   "language": "python",
   "name": "pymc_causal_dev"
  },
  "language_info": {
   "codemirror_mode": {
    "name": "ipython",
    "version": 3
   },
   "file_extension": ".py",
   "mimetype": "text/x-python",
   "name": "python",
   "nbconvert_exporter": "python",
   "pygments_lexer": "ipython3",
   "version": "3.11.6"
  }
 },
 "nbformat": 4,
 "nbformat_minor": 5
}
