{
 "cells": [
  {
   "cell_type": "code",
   "execution_count": 1,
   "id": "ec05f3fb-ca1d-4d05-ab85-d304007c5231",
   "metadata": {},
   "outputs": [
    {
     "name": "stderr",
     "output_type": "stream",
     "text": [
      "WARNING (pytensor.tensor.blas): Using NumPy C-API based implementation for BLAS functions.\n"
     ]
    }
   ],
   "source": [
    "import csv\n",
    "import os\n",
    "import pymc as pm\n",
    "from pymc import do, observe\n",
    "import pandas as pd\n",
    "import numpy as np\n",
    "import arviz as az\n",
    "from sklearn.preprocessing import StandardScaler, MinMaxScaler, OrdinalEncoder\n",
    "from pytensor import tensor as pt\n",
    "import pickle as pkl\n",
    "import matplotlib.pyplot as plt\n",
    "import scipy.stats as stats\n",
    "import seaborn as sns\n",
    "import itertools as it\n",
    "import country_converter as cc\n",
    "import math\n",
    "from sklearn.linear_model import LinearRegression"
   ]
  },
  {
   "cell_type": "markdown",
   "id": "8bea203f-6232-4c62-9e38-275dca9a47f8",
   "metadata": {},
   "source": [
    "# Convert QGIS temperature output files to single unweighted temperature file"
   ]
  },
  {
   "cell_type": "code",
   "execution_count": null,
   "id": "79de238f-6eac-4a06-bb9a-fee0eb180f40",
   "metadata": {},
   "outputs": [],
   "source": [
    "curr_month = 1\n",
    "curr_year = 1900\n",
    "dir = \"../data/processed/temp_by_country_raster_band/\"\n",
    "monthly_temp_data_by_country = {\"Country\":[],\"Year\":[],\"Month\":[],\"Mean_Temp\":[]}\n",
    "for file in sorted(os.listdir(dir)):\n",
    "    if \"country_temp_raster_band_\" in file:\n",
    "        month_file = pd.read_csv(dir + file)\n",
    "        country_codes = month_file[\"GMI_CNTRY\"]\n",
    "        mean_temps = month_file[\"_mean\"]\n",
    "        for index in range(len(country_codes)):\n",
    "            country = country_codes[index]\n",
    "            temp = mean_temps[index]\n",
    "            monthly_temp_data_by_country[\"Country\"].append(country)\n",
    "            monthly_temp_data_by_country[\"Year\"].append(curr_year)\n",
    "            monthly_temp_data_by_country[\"Month\"].append(curr_month)\n",
    "            monthly_temp_data_by_country[\"Mean_Temp\"].append(temp)\n",
    "        curr_month += 1\n",
    "        if curr_month == 13:\n",
    "            curr_month = 1\n",
    "            curr_year += 1\n",
    "zipped = zip(monthly_temp_data_by_country[\"Country\"],monthly_temp_data_by_country[\"Year\"],monthly_temp_data_by_country[\"Month\"],monthly_temp_data_by_country[\"Mean_Temp\"])\n",
    "zipped = list(sorted(zipped))\n",
    "monthly_temp_data_by_country[\"Country\"] = [row[0] for row in zipped]\n",
    "monthly_temp_data_by_country[\"Year\"] = [row[1] for row in zipped]\n",
    "monthly_temp_data_by_country[\"Month\"] = [row[2] for row in zipped]\n",
    "monthly_temp_data_by_country[\"Mean_Temp\"] = [row[3] for row in zipped]\n",
    "pd.DataFrame.from_dict(monthly_temp_data_by_country).to_csv(\"../data/processed/unweighted_monthly_temp_by_country.csv\")          "
   ]
  },
  {
   "cell_type": "markdown",
   "id": "c6cd4a43-224f-4bad-bf40-a6d7ff465ea8",
   "metadata": {},
   "source": [
    "# create formatted dataset from pop-weighted country temp data by month"
   ]
  },
  {
   "cell_type": "code",
   "execution_count": 25,
   "id": "39b1cf4a-de8a-4b57-97ef-f8c8e9ebc56b",
   "metadata": {},
   "outputs": [
    {
     "name": "stderr",
     "output_type": "stream",
     "text": [
      "/var/folders/q3/myxq41dd4_9c_rx76zlk8f3r0000gn/T/ipykernel_41576/2567336226.py:17: RuntimeWarning: Mean of empty slice\n",
      "  result_dict[\"Avg_PopWeighted_Temp\"].append(np.nanmean(all_vals_by_year))\n"
     ]
    }
   ],
   "source": [
    "result_dict = {\"Country\":[],\"Year\":[],\"Avg_PopWeighted_Temp\":[]}\n",
    "# data = pd.read_csv(\"../data/burke/data/input/nc/pop_weighted_country_temps_by_month.csv\")\n",
    "data = pd.read_csv(\"../data/burke/data/input/nc/unweighted_country_temps_by_month.csv\")\n",
    "col_prefix = \"unweighted_monthly_temp.mean.X\"\n",
    "years = [str(year) for year in list(range(1900,2018))]\n",
    "months = [str(month) if month >= 10 else \"0\"+str(month) for month in list(range(1,13))]\n",
    "for _, row in data.iterrows():\n",
    "    country = row[\"country\"]\n",
    "    for year in years:\n",
    "        all_vals_by_year = []\n",
    "        for month in months:\n",
    "            col_name = col_prefix + year + \".\" + month + \".01\"\n",
    "            all_vals_by_year.append(row[col_name])\n",
    "        result_dict[\"Country\"].append(country)\n",
    "        result_dict[\"Year\"].append(year)\n",
    "        result_dict[\"Mean_Temp\"].append(np.nanmean(all_vals_by_year))\n",
    "pd.DataFrame.from_dict(result_dict).to_csv(\"../data/burke/data/input/custom_monthly_unweighted_temp_by_country.csv\")"
   ]
  },
  {
   "cell_type": "markdown",
   "id": "7d33ec54-491d-469b-af90-3dcd219e8005",
   "metadata": {},
   "source": [
    "# create formatted dataset from unweighted country precip data by month"
   ]
  },
  {
   "cell_type": "code",
   "execution_count": 17,
   "id": "e25d0c03-b5a1-40d3-bf8e-693834a360f5",
   "metadata": {},
   "outputs": [
    {
     "name": "stderr",
     "output_type": "stream",
     "text": [
      "/tmp/ipykernel_80090/1184637301.py:20: RuntimeWarning: Mean of empty slice\n",
      "  result_dict[\"Unweighted_Precipitation\"].append(np.nanmean(all_vals_by_year))\n"
     ]
    },
    {
     "name": "stdout",
     "output_type": "stream",
     "text": [
      "[4.1454815864563, 4.1969313621521, 10.0919666290283, 3.15712332725525, 2.14509987831116, 8.84110260009766, 20.4474258422852, 8.90329170227051, 7.58338975906372, 15.6217288970947, 6.25479507446289, 4.02499961853027]\n"
     ]
    }
   ],
   "source": [
    "result_dict = {\"Country\":[],\"Year\":[],\"Unweighted_Precipitation\":[]}\n",
    "# data = pd.read_csv(\"../data/burke/data/input/nc/pop_weighted_country_temps_by_month.csv\")\n",
    "data = pd.read_csv(\"../data/burke/data/input/unweighted_country_precip_by_month.csv\")\n",
    "col_prefix = \"unweighted_monthly_precip.mean.precip_clipped_by_country_mask_\"\n",
    "years = [str(year) for year in list(range(1900,2015))]\n",
    "months = [str(month) if month >= 10 else \"0\"+str(month) for month in list(range(1,13))]\n",
    "for _, row in data.iterrows():\n",
    "    month_count = 1\n",
    "    country = row[\"country\"]\n",
    "    for year in years:\n",
    "        all_vals_by_year = []\n",
    "        for month in months:\n",
    "            col_name = col_prefix + str(month_count)\n",
    "            all_vals_by_year.append(row[col_name])\n",
    "            month_count += 1\n",
    "        result_dict[\"Country\"].append(country)\n",
    "        result_dict[\"Year\"].append(year)\n",
    "        result_dict[\"Unweighted_Precipitation\"].append(np.nanmean(all_vals_by_year))\n",
    "pd.DataFrame.from_dict(result_dict).to_csv(\"../data/burke/data/input/custom_monthly_unweighted_precip_by_country.csv\")"
   ]
  },
  {
   "cell_type": "code",
   "execution_count": 28,
   "id": "98ea1dee-c1d5-47a0-9262-46800718dfe7",
   "metadata": {},
   "outputs": [
    {
     "name": "stdout",
     "output_type": "stream",
     "text": [
      "925\n",
      "767\n",
      "266\n"
     ]
    }
   ],
   "source": [
    "# burke dataset missing data\n",
    "burke_data = pd.read_csv(\"../data/burke/data/input/GrowthClimateDataset.csv\")\n",
    "temp = burke_data.UDel_temp_popweight\n",
    "precp = burke_data.UDel_precip_popweight\n",
    "gdp = burke_data.growthWDI\n",
    "countries = burke_data.iso\n",
    "years = burke_data.year\n",
    "\n",
    "gdp_no_temp = 0\n",
    "temp_no_gdp = 0\n",
    "no_both = 0\n",
    "\n",
    "for i in range(len(temp)):\n",
    "    if years[i] < 2011 and np.isnan(temp[i]) and np.isnan(gdp[i]):\n",
    "        no_both += 1\n",
    "    elif years[i] < 2011 and np.isnan(temp[i]) and not np.isnan(gdp[i]):\n",
    "        gdp_no_temp += 1\n",
    "    elif years[i] < 2011 and not np.isnan(temp[i]) and np.isnan(gdp[i]):\n",
    "        temp_no_gdp += 1\n",
    "\n",
    "print(gdp_no_temp)\n",
    "print(temp_no_gdp)\n",
    "print(no_both)"
   ]
  },
  {
   "cell_type": "markdown",
   "id": "94dc36fb-625f-4bc4-a02a-21faf49251dc",
   "metadata": {},
   "source": [
    "# proof-of-concept for country-specific temp priors"
   ]
  },
  {
   "cell_type": "code",
   "execution_count": 62,
   "id": "4778f5ce-dc9c-4406-9df0-16b46266c73d",
   "metadata": {},
   "outputs": [],
   "source": [
    "data = pd.read_csv(\"../data/burke/data/input/GrowthClimateDatasetTruncated.csv\")\n",
    "\n",
    "indices_to_drop = []\n",
    "no_nan_cols = [\"UDel_temp_popweight\",\"UDel_precip_popweight\",\"growthWDI\"]\n",
    "for index, row in enumerate(data.itertuples()):\n",
    "    if any(np.isnan(getattr(row,col)) for col in no_nan_cols):\n",
    "        indices_to_drop.append(index)\n",
    "data_no_missing = data.drop(indices_to_drop)\n",
    "\n",
    "precip_scaler, gdp_scaler, temp_scaler = StandardScaler(), StandardScaler(), StandardScaler()\n",
    "precip_scaled = precip_scaler.fit_transform(np.array(data_no_missing.UDel_precip_popweight).reshape(-1,1)).flatten()\n",
    "gdp_scaled = gdp_scaler.fit_transform(np.array(data_no_missing.growthWDI).reshape(-1,1)).flatten()\n",
    "temp_scaled = temp_scaler.fit_transform(np.array(data_no_missing.UDel_temp_popweight).reshape(-1,1)).flatten()\n",
    "\n",
    "data_len = len(data_no_missing.year)\n",
    "year_mult_mat = [np.zeros(data_len) for year in set(data_no_missing.year)]\n",
    "country_mult_mat = [np.zeros(data_len) for country in set(data_no_missing.iso)]\n",
    "\n",
    "country_index = -1\n",
    "curr_country = \"\"\n",
    "for row_index, row in enumerate(data_no_missing.itertuples()):\n",
    "    if row.iso != curr_country:\n",
    "        country_index += 1\n",
    "        curr_country = row.iso\n",
    "    year_index = row.year - 1961\n",
    "    country_mult_mat[country_index][row_index] = 1\n",
    "    year_mult_mat[year_index][row_index] = 1\n",
    "\n",
    "grad_effects_data = np.transpose(np.array(data_no_missing.loc[:, data.columns.str.startswith(('_y'))]))"
   ]
  },
  {
   "cell_type": "code",
   "execution_count": 73,
   "id": "0dbd04dc-91d0-4a16-a80d-2c8824e6478f",
   "metadata": {},
   "outputs": [],
   "source": [
    "data = pd.read_csv(\"../data/burke/data/input/GrowthClimateDatasetTruncated.csv\")\n",
    "precip_scaler, gdp_scaler, temp_scaler = StandardScaler(), StandardScaler(), StandardScaler()\n",
    "precip_scaled = precip_scaler.fit_transform(np.array(data.UDel_precip_popweight).reshape(-1,1)).flatten()\n",
    "gdp_scaled = gdp_scaler.fit_transform(np.array(data.growthWDI).reshape(-1,1)).flatten()\n",
    "temp_scaled = temp_scaler.fit_transform(np.array(data.UDel_temp_popweight).reshape(-1,1)).flatten()\n",
    "\n",
    "data_len = len(data.year)\n",
    "year_mult_mat = [np.zeros(data_len) for year in set(data.year)]\n",
    "country_mult_mat = [np.zeros(data_len) for country in set(data.iso)]\n",
    "\n",
    "country_index = -1\n",
    "curr_country = \"\"\n",
    "for row_index, row in enumerate(data.itertuples()):\n",
    "    if row.iso != curr_country:\n",
    "        country_index += 1\n",
    "        curr_country = row.iso\n",
    "    year_index = row.year - 1960\n",
    "    country_mult_mat[country_index][row_index] = 1\n",
    "    year_mult_mat[year_index][row_index] = 1\n",
    "\n",
    "grad_effects_data = np.transpose(np.array(data.loc[:, data.columns.str.startswith(('_y'))]))"
   ]
  },
  {
   "cell_type": "code",
   "execution_count": 82,
   "id": "f9ca670f-3585-4060-9727-8359fe7b7957",
   "metadata": {},
   "outputs": [
    {
     "name": "stderr",
     "output_type": "stream",
     "text": [
      "/home/hayden_freedman/pymc_dev.venv/lib/python3.10/site-packages/pymc/model/core.py:1323: ImputationWarning: Data in temp_posterior contains missing values and will be automatically imputed from the sampling distribution.\n",
      "  warnings.warn(impute_message, ImputationWarning)\n",
      "/home/hayden_freedman/pymc_dev.venv/lib/python3.10/site-packages/pymc/model/core.py:1323: ImputationWarning: Data in precip_posterior contains missing values and will be automatically imputed from the sampling distribution.\n",
      "  warnings.warn(impute_message, ImputationWarning)\n",
      "/home/hayden_freedman/pymc_dev.venv/lib/python3.10/site-packages/pymc/model/core.py:1323: ImputationWarning: Data in gdp_posterior contains missing values and will be automatically imputed from the sampling distribution.\n",
      "  warnings.warn(impute_message, ImputationWarning)\n",
      "Sampling: [country_coefs, country_coefs_precip_prior, country_coefs_temp_prior, gdp_intercept, gdp_posterior_observed, gdp_posterior_unobserved, gdp_std, grad_effect_coefs, precip_gdp_coef, precip_posterior_observed, precip_posterior_unobserved, precip_sq_gdp_coef, precip_std, temp_gdp_coef, temp_posterior_observed, temp_posterior_unobserved, temp_sq_gdp_coef, temp_std, year_coefs]\n",
      "Auto-assigning NUTS sampler...\n",
      "Initializing NUTS using jitter+adapt_diag...\n",
      "Multiprocess sampling (4 chains in 4 jobs)\n",
      "NUTS: [country_coefs_temp_prior, temp_std, temp_posterior_unobserved, country_coefs_precip_prior, precip_std, precip_posterior_unobserved, gdp_intercept, temp_gdp_coef, temp_sq_gdp_coef, precip_gdp_coef, precip_sq_gdp_coef, year_coefs, country_coefs, grad_effect_coefs, gdp_std, gdp_posterior_unobserved]\n"
     ]
    },
    {
     "data": {
      "text/html": [
       "\n",
       "<style>\n",
       "    /* Turns off some styling */\n",
       "    progress {\n",
       "        /* gets rid of default border in Firefox and Opera. */\n",
       "        border: none;\n",
       "        /* Needs to be in here for Safari polyfill so background images work as expected. */\n",
       "        background-size: auto;\n",
       "    }\n",
       "    progress:not([value]), progress:not([value])::-webkit-progress-bar {\n",
       "        background: repeating-linear-gradient(45deg, #7e7e7e, #7e7e7e 10px, #5c5c5c 10px, #5c5c5c 20px);\n",
       "    }\n",
       "    .progress-bar-interrupted, .progress-bar-interrupted::-webkit-progress-bar {\n",
       "        background: #F44336;\n",
       "    }\n",
       "</style>\n"
      ],
      "text/plain": [
       "<IPython.core.display.HTML object>"
      ]
     },
     "metadata": {},
     "output_type": "display_data"
    },
    {
     "data": {
      "text/html": [
       "\n",
       "    <div>\n",
       "      <progress value='8000' class='' max='8000' style='width:300px; height:20px; vertical-align: middle;'></progress>\n",
       "      100.00% [8000/8000 17:55&lt;00:00 Sampling 4 chains, 0 divergences]\n",
       "    </div>\n",
       "    "
      ],
      "text/plain": [
       "<IPython.core.display.HTML object>"
      ]
     },
     "metadata": {},
     "output_type": "display_data"
    },
    {
     "name": "stderr",
     "output_type": "stream",
     "text": [
      "Sampling 4 chains for 1_000 tune and 1_000 draw iterations (4_000 + 4_000 draws total) took 1075 seconds.\n",
      "The rhat statistic is larger than 1.01 for some parameters. This indicates problems during sampling. See https://arxiv.org/abs/1903.08008 for details\n",
      "The effective sample size per chain is smaller than 100 for some parameters.  A higher number is needed for reliable rhat and ess computation. See https://arxiv.org/abs/1903.08008 for details\n",
      "Sampling: [gdp_posterior_observed, gdp_posterior_unobserved, precip_posterior_observed, temp_posterior_observed]\n"
     ]
    },
    {
     "data": {
      "text/html": [
       "\n",
       "<style>\n",
       "    /* Turns off some styling */\n",
       "    progress {\n",
       "        /* gets rid of default border in Firefox and Opera. */\n",
       "        border: none;\n",
       "        /* Needs to be in here for Safari polyfill so background images work as expected. */\n",
       "        background-size: auto;\n",
       "    }\n",
       "    progress:not([value]), progress:not([value])::-webkit-progress-bar {\n",
       "        background: repeating-linear-gradient(45deg, #7e7e7e, #7e7e7e 10px, #5c5c5c 10px, #5c5c5c 20px);\n",
       "    }\n",
       "    .progress-bar-interrupted, .progress-bar-interrupted::-webkit-progress-bar {\n",
       "        background: #F44336;\n",
       "    }\n",
       "</style>\n"
      ],
      "text/plain": [
       "<IPython.core.display.HTML object>"
      ]
     },
     "metadata": {},
     "output_type": "display_data"
    },
    {
     "data": {
      "text/html": [
       "\n",
       "    <div>\n",
       "      <progress value='4000' class='' max='4000' style='width:300px; height:20px; vertical-align: middle;'></progress>\n",
       "      100.00% [4000/4000 00:01&lt;00:00]\n",
       "    </div>\n",
       "    "
      ],
      "text/plain": [
       "<IPython.core.display.HTML object>"
      ]
     },
     "metadata": {},
     "output_type": "display_data"
    }
   ],
   "source": [
    "with pm.Model() as model:\n",
    "\n",
    "    country_coefs_temp_prior = pt.expand_dims(pm.Normal(\"country_coefs_temp_prior\", 0, 1, shape=(len(set(data.iso)))),axis=1)\n",
    "    temp_prior = pm.Deterministic(\"temp_prior\",pt.sum(country_coefs_temp_prior*country_mult_mat,axis=0))\n",
    "    # temp_prior = pm.Normal(\"temp_prior\", 0, 1)\n",
    "    temp_std = pm.HalfNormal(\"temp_std\", 10)\n",
    "    temp_posterior = pm.Normal(\"temp_posterior\", temp_prior, temp_std, observed=temp_scaled)\n",
    "\n",
    "    country_coefs_precip_prior = pt.expand_dims(pm.Normal(\"country_coefs_precip_prior\", 0, 1, shape=(len(set(data.iso)))),axis=1)\n",
    "    precip_prior = pm.Deterministic(\"precip_prior\",pt.sum(country_coefs_precip_prior*country_mult_mat,axis=0))\n",
    "    # precip_prior = pm.Normal(\"precip_prior\", 0, 1)\n",
    "    precip_std = pm.HalfNormal(\"precip_std\", 10)\n",
    "    precip_posterior = pm.Normal(\"precip_posterior\", precip_prior, precip_std, observed=precip_scaled)\n",
    "\n",
    "    gdp_intercept = pm.Normal('gdp_intercept',0,10)\n",
    "    temp_gdp_coef = pm.Normal('temp_gdp_coef',0,10)\n",
    "    temp_sq_gdp_coef = pm.Normal('temp_sq_gdp_coef',0,10)\n",
    "    precip_gdp_coef = pm.Normal(\"precip_gdp_coef\",0,10)\n",
    "    precip_sq_gdp_coef = pm.Normal(\"precip_sq_gdp_coef\",0,10)\n",
    "\n",
    "    # year_coefs = pt.expand_dims(pm.Normal(\"year_coefs\", 0, 5, shape=(len(set(data_no_missing.year)))),axis=1)\n",
    "    year_coefs = pt.expand_dims(pm.Normal(\"year_coefs\", 0, 5, shape=(len(set(data.year)))),axis=1)\n",
    "    year_fixed_effects = pm.Deterministic(\"year_fixed_effects\",pt.sum(year_coefs*year_mult_mat,axis=0))\n",
    "\n",
    "    # country_coefs = pt.expand_dims(pm.Normal(\"country_coefs\", 0, 5, shape=(len(set(data_no_missing.iso)))),axis=1)\n",
    "    country_coefs = pt.expand_dims(pm.Normal(\"country_coefs\", 0, 5, shape=(len(set(data.iso)))),axis=1)\n",
    "    country_fixed_effects = pm.Deterministic(\"country_fixed_effects\",pt.sum(country_coefs*country_mult_mat,axis=0))\n",
    "\n",
    "    gradual_effect_coefs = pt.expand_dims(pm.Normal(\"grad_effect_coefs\", 0, 5, shape=(len(grad_effects_data))),axis=1)\n",
    "    gradual_effects = pm.Deterministic(\"grad_effects\",pt.sum(gradual_effect_coefs*grad_effects_data,axis=0))\n",
    "    \n",
    "    gdp_prior = pm.Deterministic(\n",
    "        \"gdp_prior\",\n",
    "        gdp_intercept +\n",
    "        (temp_posterior * temp_gdp_coef) +\n",
    "        (temp_sq_gdp_coef * pt.sqr(temp_posterior)) +\n",
    "        (precip_posterior * precip_gdp_coef) +\n",
    "        (precip_sq_gdp_coef * pt.sqr(precip_posterior)) +\n",
    "        year_fixed_effects +\n",
    "        country_fixed_effects +\n",
    "        gradual_effects\n",
    "    )\n",
    "    \n",
    "    gdp_std = pm.HalfNormal('gdp_std', sigma=10)\n",
    "    gdp_posterior = pm.Normal('gdp_posterior', mu=gdp_prior, sigma=gdp_std, observed=gdp_scaled)\n",
    "\n",
    "    prior = pm.sample_prior_predictive()\n",
    "    trace = pm.sample()\n",
    "    posterior = pm.sample_posterior_predictive(trace, extend_inferencedata=True)"
   ]
  },
  {
   "cell_type": "code",
   "execution_count": 65,
   "id": "7ca73404-5bdb-4897-bb4c-94d1556250df",
   "metadata": {},
   "outputs": [],
   "source": [
    "trace_1 = trace\n",
    "posterior_1 = posterior"
   ]
  },
  {
   "cell_type": "code",
   "execution_count": 66,
   "id": "caf39d7d-be34-44ee-818b-a97a9c36ca63",
   "metadata": {},
   "outputs": [
    {
     "name": "stdout",
     "output_type": "stream",
     "text": [
      "1.5022163626463039\n",
      "-0.797895699922554\n",
      "0.18873404810271932\n",
      "0.13316074718098558\n"
     ]
    }
   ],
   "source": [
    "print(np.mean(posterior_1.posterior.temp_gdp_coef.data))\n",
    "print(np.mean(posterior_1.posterior.temp_sq_gdp_coef.data))\n",
    "print(np.mean(posterior_1.posterior.precip_gdp_coef.data))\n",
    "print(np.mean(posterior_1.posterior.precip_sq_gdp_coef.data))"
   ]
  },
  {
   "cell_type": "code",
   "execution_count": 75,
   "id": "1b4b4e91-16c7-404f-b886-30be7ef2f75d",
   "metadata": {},
   "outputs": [],
   "source": [
    "trace_2 = trace\n",
    "posterior_2 = posterior"
   ]
  },
  {
   "cell_type": "code",
   "execution_count": 76,
   "id": "5e26807b-25ec-4c7e-9238-6aaf1fcfb91a",
   "metadata": {},
   "outputs": [
    {
     "name": "stdout",
     "output_type": "stream",
     "text": [
      "-0.11842936695809973\n",
      "-0.6886470889358016\n",
      "0.002734180937188714\n",
      "0.06128721765641807\n"
     ]
    }
   ],
   "source": [
    "print(np.mean(posterior_2.posterior.temp_gdp_coef.data))\n",
    "print(np.mean(posterior_2.posterior.temp_sq_gdp_coef.data))\n",
    "print(np.mean(posterior_2.posterior.precip_gdp_coef.data))\n",
    "print(np.mean(posterior_2.posterior.precip_sq_gdp_coef.data))"
   ]
  },
  {
   "cell_type": "code",
   "execution_count": 81,
   "id": "c3847054-0195-42f9-9c22-4f461c0345e6",
   "metadata": {},
   "outputs": [
    {
     "name": "stdout",
     "output_type": "stream",
     "text": [
      "[-2.57238346 -0.24040984 -0.71098405  1.06328328 -1.28347795 -1.87846285\n",
      " -1.26125807 -0.80732258  0.12412204  0.91232099  0.25623295 -0.23307003\n",
      " -1.93645254 -1.13541942 -0.68624079]\n",
      "-0.023601708127025417\n",
      "0.8612753605441308\n"
     ]
    }
   ],
   "source": [
    "print(posterior_2.posterior.temp_posterior_unobserved.data[0][0])\n",
    "print(np.mean(posterior_2.posterior.temp_posterior_unobserved.data))\n",
    "print(np.std(posterior_2.posterior.temp_posterior_unobserved.data))"
   ]
  },
  {
   "cell_type": "code",
   "execution_count": 83,
   "id": "ca3ff4a2-98c8-4d35-a413-8fcc50772b3a",
   "metadata": {},
   "outputs": [],
   "source": [
    "trace_3 = trace\n",
    "posterior_3 = posterior"
   ]
  },
  {
   "cell_type": "code",
   "execution_count": 84,
   "id": "fc8808e9-69b0-4628-8973-87e6b0b28996",
   "metadata": {},
   "outputs": [
    {
     "name": "stdout",
     "output_type": "stream",
     "text": [
      "1.0696387494285733\n",
      "-0.8339804300002953\n",
      "0.18833593015714178\n",
      "0.12195729156337243\n"
     ]
    }
   ],
   "source": [
    "print(np.mean(posterior_3.posterior.temp_gdp_coef.data))\n",
    "print(np.mean(posterior_3.posterior.temp_sq_gdp_coef.data))\n",
    "print(np.mean(posterior_3.posterior.precip_gdp_coef.data))\n",
    "print(np.mean(posterior_3.posterior.precip_sq_gdp_coef.data))"
   ]
  },
  {
   "cell_type": "code",
   "execution_count": 89,
   "id": "814027f3-2ec9-4127-90e7-213907ec6920",
   "metadata": {},
   "outputs": [
    {
     "name": "stdout",
     "output_type": "stream",
     "text": [
      "[-0.92223356 -0.81234973 -0.798446    0.81519524  0.55951362  0.71368768\n",
      " -0.88402724 -0.7376646  -0.73193389  1.55575454  1.37519756 -0.12757303\n",
      " -1.69273233 -1.69232622 -1.72259294]\n",
      "-0.3432309958909134\n",
      "1.0696323687060416\n"
     ]
    }
   ],
   "source": [
    "print(posterior_3.posterior.temp_posterior_unobserved.data[0][0])\n",
    "print(np.mean(posterior_3.posterior.temp_posterior_unobserved.data))\n",
    "print(np.std(posterior_3.posterior.temp_posterior_unobserved.data))"
   ]
  }
 ],
 "metadata": {
  "kernelspec": {
   "display_name": "Python 3 (ipykernel)",
   "language": "python",
   "name": "python3"
  },
  "language_info": {
   "codemirror_mode": {
    "name": "ipython",
    "version": 3
   },
   "file_extension": ".py",
   "mimetype": "text/x-python",
   "name": "python",
   "nbconvert_exporter": "python",
   "pygments_lexer": "ipython3",
   "version": "3.10.12"
  }
 },
 "nbformat": 4,
 "nbformat_minor": 5
}
