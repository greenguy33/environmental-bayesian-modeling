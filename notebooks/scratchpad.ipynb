{
 "cells": [
  {
   "cell_type": "code",
   "execution_count": 19,
   "id": "ec05f3fb-ca1d-4d05-ab85-d304007c5231",
   "metadata": {},
   "outputs": [],
   "source": [
    "import matplotlib.pyplot as plt\n",
    "from scipy import stats\n",
    "import xarray as xr\n",
    "import pandas as pd\n",
    "import numpy as np"
   ]
  },
  {
   "cell_type": "code",
   "execution_count": 25,
   "id": "39b1cf4a-de8a-4b57-97ef-f8c8e9ebc56b",
   "metadata": {},
   "outputs": [
    {
     "name": "stderr",
     "output_type": "stream",
     "text": [
      "/var/folders/q3/myxq41dd4_9c_rx76zlk8f3r0000gn/T/ipykernel_41576/2567336226.py:17: RuntimeWarning: Mean of empty slice\n",
      "  result_dict[\"Avg_PopWeighted_Temp\"].append(np.nanmean(all_vals_by_year))\n"
     ]
    }
   ],
   "source": [
    "# create formatted dataset from pop-weighted country temp data by month\n",
    "result_dict = {\"Country\":[],\"Year\":[],\"Avg_PopWeighted_Temp\":[]}\n",
    "# data = pd.read_csv(\"../data/burke/data/input/nc/pop_weighted_country_temps_by_month.csv\")\n",
    "data = pd.read_csv(\"../data/burke/data/input/nc/unweighted_country_temps_by_month.csv\")\n",
    "col_prefix = \"unweighted_monthly_temp.mean.X\"\n",
    "years = [str(year) for year in list(range(1900,2018))]\n",
    "months = [str(month) if month >= 10 else \"0\"+str(month) for month in list(range(1,13))]\n",
    "for _, row in data.iterrows():\n",
    "    country = row[\"country\"]\n",
    "    for year in years:\n",
    "        all_vals_by_year = []\n",
    "        for month in months:\n",
    "            col_name = col_prefix + year + \".\" + month + \".01\"\n",
    "            all_vals_by_year.append(row[col_name])\n",
    "        result_dict[\"Country\"].append(country)\n",
    "        result_dict[\"Year\"].append(year)\n",
    "        result_dict[\"Mean_Temp\"].append(np.nanmean(all_vals_by_year))\n",
    "pd.DataFrame.from_dict(result_dict).to_csv(\"../data/burke/data/input/custom_monthly_unweighted_temp_by_country.csv\")"
   ]
  },
  {
   "cell_type": "raw",
   "id": "35ea55d4-f92f-43ea-a2b9-1dafe482605f",
   "metadata": {},
   "source": [
    "temp_data_observed = list(range(-5,36))\n",
    "gdp_data_observed = [-0.1587893,-0.1416871,-0.1255591,-0.1104053,-0.0962257,-0.08302027,-0.07078901,-0.05953193,-0.04924903,-0.03994031,-0.03160578,-0.02424542,-0.01785925,-0.01244725,-0.00800944,-0.00454581,-0.00205636,-0.00054109,0,-0.00043309,-0.00184036,-0.00422181,-0.00757744,-0.01190725,-0.01721125,-0.02348942,-0.03074178,-0.03896831,-0.04816903,-0.05834393,-0.06949301,-0.08161627,-0.09471371,-0.1087853,-0.1238311,-0.1398511,-0.1568453,-0.1748136,-0.1937561,-0.2136728,-0.2345637]\n",
    "plt.scatter(temp_data_observed, gdp_data_observed)"
   ]
  },
  {
   "cell_type": "code",
   "execution_count": 63,
   "id": "f3b6432b-7220-4f36-9603-c7aa72b22e8f",
   "metadata": {},
   "outputs": [
    {
     "name": "stdout",
     "output_type": "stream",
     "text": [
      "Coordinates:\n",
      "  * lat      (lat) float32 89.75 89.25 88.75 88.25 ... -88.75 -89.25 -89.75\n",
      "  * lon      (lon) float32 0.25 0.75 1.25 1.75 2.25 ... 358.2 358.8 359.2 359.8\n",
      "  * time     (time) object 0001-01-01 00:00:00 ... 0001-12-01 00:00:00\n"
     ]
    },
    {
     "name": "stderr",
     "output_type": "stream",
     "text": [
      "/Users/hayden.freedman/miniconda3/envs/env-data-modeling/lib/python3.9/site-packages/xarray/coding/times.py:716: SerializationWarning: Unable to decode time axis into full numpy.datetime64 objects, continuing using cftime.datetime objects instead, reason: dates out of range\n",
      "  dtype = _decode_cf_datetime_dtype(data, units, calendar, self.use_cftime)\n",
      "/Users/hayden.freedman/miniconda3/envs/env-data-modeling/lib/python3.9/site-packages/numpy/core/_asarray.py:102: SerializationWarning: Unable to decode time axis into full numpy.datetime64 objects, continuing using cftime.datetime objects instead, reason: dates out of range\n",
      "  return array(a, dtype, copy=False, order=order)\n"
     ]
    }
   ],
   "source": [
    "# convert .nc file from 0 - 360 to -180 - 180\n",
    "with xr.open_dataset(\"../nc/air.mon.1981-2010.ltm.v501.nc\") as src:\n",
    "# with xr.open_dataset(\"../nc/air_shifted_longs_cdo.nc\") as src:\n",
    "    print(src.coords)\n",
    "    # src = src.assign_coords(lon=(((src.lon + 180) % 360) - 180)).sortby('lon')\n",
    "    # # src.coords['lon'] = (src.coords['lon'] + 180) % 360 - 180\n",
    "    # # src.sortby(src.coords['lon'])\n",
    "    # print(src.coords)\n",
    "    # src.to_netcdf('../nc/air_temp_modified_longitude.nc')"
   ]
  },
  {
   "cell_type": "code",
   "execution_count": null,
   "id": "e25d0c03-b5a1-40d3-bf8e-693834a360f5",
   "metadata": {},
   "outputs": [],
   "source": []
  }
 ],
 "metadata": {
  "kernelspec": {
   "display_name": "Python (env_data_modeling)",
   "language": "python",
   "name": "env_data_modeling"
  },
  "language_info": {
   "codemirror_mode": {
    "name": "ipython",
    "version": 3
   },
   "file_extension": ".py",
   "mimetype": "text/x-python",
   "name": "python",
   "nbconvert_exporter": "python",
   "pygments_lexer": "ipython3",
   "version": "3.9.0"
  }
 },
 "nbformat": 4,
 "nbformat_minor": 5
}
