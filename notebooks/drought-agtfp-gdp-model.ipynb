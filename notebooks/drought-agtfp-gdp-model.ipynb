{
 "cells": [
  {
   "cell_type": "markdown",
   "id": "045bc03b-6fad-4854-80df-cd92f7aa0577",
   "metadata": {},
   "source": [
    "import csv\n",
    "import os\n",
    "import pymc as pm\n",
    "import pandas as pd\n",
    "import numpy as np\n",
    "import arviz as az\n",
    "from sklearn.preprocessing import StandardScaler, MinMaxScaler\n",
    "from pytensor import tensor as pt\n",
    "import pickle as pkl\n",
    "import matplotlib.pyplot as plt\n",
    "import scipy.stats as stats\n",
    "import seaborn as sns\n",
    "import country_converter as cc"
   ]
  },
  {
   "cell_type": "code",
   "execution_count": 43,
   "id": "57ee28e7-fdf0-45f0-9a5d-8f507fdb6076",
   "metadata": {},
   "outputs": [
    {
     "name": "stdout",
     "output_type": "stream",
     "text": [
      "11387\n"
     ]
    }
   ],
   "source": [
    "data = pd.read_csv(\"../data/processed/drought-agtfp-gdp-data.csv\")\n",
    "print(len(data))"
   ]
  },
  {
   "cell_type": "markdown",
   "id": "c396f26d-bc47-4b7e-b49d-4aac79a29767",
   "metadata": {},
   "source": [
    "# Drought - Ag. TfP"
   ]
  },
  {
   "cell_type": "markdown",
   "id": "8cd43d7e-bf2c-47c6-b9d3-7913fad2c7b9",
   "metadata": {},
   "source": [
    "## remove missing rows"
   ]
  },
  {
   "cell_type": "code",
   "execution_count": 44,
   "id": "a1e5df3c-bf7d-4d53-8410-1a6993867b1d",
   "metadata": {},
   "outputs": [
    {
     "name": "stdout",
     "output_type": "stream",
     "text": [
      "8715\n"
     ]
    }
   ],
   "source": [
    "indices_to_drop = []\n",
    "no_nan_cols = [\"ln_TFP_change\"]\n",
    "for index, row in enumerate(data.itertuples()):\n",
    "    if any(np.isnan(getattr(row,col)) for col in no_nan_cols):\n",
    "        indices_to_drop.append(index)\n",
    "data = data.drop(indices_to_drop)\n",
    "data = data.reset_index()\n",
    "print(len(data))"
   ]
  },
  {
   "cell_type": "markdown",
   "id": "fb7178f4-76a4-47f7-9ad3-bf7b1db4abc7",
   "metadata": {},
   "source": [
    "## linear regression to get a sense of good priors"
   ]
  },
  {
   "cell_type": "code",
   "execution_count": 57,
   "id": "a820c56b-9354-4bd9-adb3-ce3c4f00ad98",
   "metadata": {},
   "outputs": [
    {
     "name": "stdout",
     "output_type": "stream",
     "text": [
      "[[-0.00878432]] [0.0082863]\n",
      "0.0827685552697079\n"
     ]
    }
   ],
   "source": [
    "from sklearn.linear_model import LinearRegression\n",
    "x = np.array(data.drought).reshape(-1,1)\n",
    "y = np.array(data.ln_TFP_change).reshape(-1,1)\n",
    "model = LinearRegression().fit(x,y)\n",
    "print(model.coef_, model.intercept_)\n",
    "print(np.std(data.ln_TFP_change))"
   ]
  },
  {
   "cell_type": "markdown",
   "id": "5bd9de16-5afc-47a3-8fd2-9b378b43ca67",
   "metadata": {},
   "source": [
    "## create fixed effect matrices"
   ]
  },
  {
   "cell_type": "code",
   "execution_count": 82,
   "id": "413a82bc-4edc-4add-97fa-86fa8780f9d4",
   "metadata": {},
   "outputs": [],
   "source": [
    "min_year = min(data.year)\n",
    "data_len = len(data.year)\n",
    "year_fixed_effect_matrix = [np.zeros(data_len) for year in set(data.year)]\n",
    "country_fixed_effect_matrix = [np.zeros(data_len) for country in set(data.country)]\n",
    "country_index = -1\n",
    "curr_country = \"\"\n",
    "for row_index, row in enumerate(data.itertuples()):\n",
    "    if row.country != curr_country:\n",
    "        country_index += 1\n",
    "        curr_country = row.country\n",
    "    year_index = row.year - min_year\n",
    "    country_fixed_effect_matrix[country_index][row_index] = 1\n",
    "    year_fixed_effect_matrix[year_index][row_index] = 1"
   ]
  },
  {
   "cell_type": "markdown",
   "id": "0b649d1b-a541-4951-bfff-56e1f4e789cf",
   "metadata": {},
   "source": [
    "## create gradual effect matrices"
   ]
  },
  {
   "cell_type": "code",
   "execution_count": 83,
   "id": "34b9f7d0-8bae-43b3-a6ad-443d55ba2bd4",
   "metadata": {},
   "outputs": [],
   "source": [
    "data_len = len(data.year)\n",
    "country_counters = {}\n",
    "country_grad_effect_matrix = [np.zeros(data_len) for country in set(data.country)]\n",
    "country_index = -1\n",
    "curr_country = \"\"\n",
    "for row_index, row in enumerate(data.itertuples()):\n",
    "    if row.country != curr_country:\n",
    "        country_index += 1\n",
    "        curr_country = row.country\n",
    "        if curr_country not in country_counters:\n",
    "            country_counters[curr_country] = 1\n",
    "    country_grad_effect_matrix[country_index][row_index] = country_counters[curr_country]\n",
    "    country_counters[curr_country] += 1"
   ]
  },
  {
   "cell_type": "markdown",
   "id": "78c2b77d-57ec-437f-a072-2a44186aa7d1",
   "metadata": {},
   "source": [
    "## Build Model"
   ]
  },
  {
   "cell_type": "code",
   "execution_count": 93,
   "id": "4f776520-4f78-4832-a6a4-db90bf8c7678",
   "metadata": {},
   "outputs": [
    {
     "name": "stderr",
     "output_type": "stream",
     "text": [
      "Sampling: [country_fixed_effect_coefs, country_grad_effect_coefs, drought_tfp_coef, intercept, tfp_posterior, tfp_prior, tfp_sd, year_fixed_effect_coefs]\n",
      "Auto-assigning NUTS sampler...\n",
      "Initializing NUTS using jitter+adapt_diag...\n",
      "Multiprocess sampling (4 chains in 4 jobs)\n",
      "NUTS: [drought_tfp_coef, intercept, year_fixed_effect_coefs, country_fixed_effect_coefs, country_grad_effect_coefs, tfp_prior, tfp_sd]\n"
     ]
    },
    {
     "data": {
      "text/html": [
       "\n",
       "<style>\n",
       "    /* Turns off some styling */\n",
       "    progress {\n",
       "        /* gets rid of default border in Firefox and Opera. */\n",
       "        border: none;\n",
       "        /* Needs to be in here for Safari polyfill so background images work as expected. */\n",
       "        background-size: auto;\n",
       "    }\n",
       "    progress:not([value]), progress:not([value])::-webkit-progress-bar {\n",
       "        background: repeating-linear-gradient(45deg, #7e7e7e, #7e7e7e 10px, #5c5c5c 10px, #5c5c5c 20px);\n",
       "    }\n",
       "    .progress-bar-interrupted, .progress-bar-interrupted::-webkit-progress-bar {\n",
       "        background: #F44336;\n",
       "    }\n",
       "</style>\n"
      ],
      "text/plain": [
       "<IPython.core.display.HTML object>"
      ]
     },
     "metadata": {},
     "output_type": "display_data"
    },
    {
     "data": {
      "text/html": [
       "\n",
       "    <div>\n",
       "      <progress value='74' class='' max='8000' style='width:300px; height:20px; vertical-align: middle;'></progress>\n",
       "      0.93% [74/8000 01:39&lt;2:57:57 Sampling 4 chains, 0 divergences]\n",
       "    </div>\n",
       "    "
      ],
      "text/plain": [
       "<IPython.core.display.HTML object>"
      ]
     },
     "metadata": {},
     "output_type": "display_data"
    },
    {
     "name": "stderr",
     "output_type": "stream",
     "text": [
      "\n",
      "KeyboardInterrupt\n",
      "\n"
     ]
    }
   ],
   "source": [
    "with pm.Model() as model:\n",
    "\n",
    "    drought_tfp_coef = pm.Normal(\"drought_tfp_coef\", 0, .1)\n",
    "    intercept = pm.Normal(\"intercept\", 0, .1)\n",
    "\n",
    "    year_fixed_effect_coefs = pt.expand_dims(pm.Normal(\"year_fixed_effect_coefs\", 0, 10, shape=(len(set(data.year)))),axis=1)\n",
    "    year_fixed_effects = pm.Deterministic(\"year_fixed_effects\",pt.sum(year_fixed_effect_coefs*year_fixed_effect_matrix,axis=0))\n",
    "\n",
    "    country_fixed_effect_coefs = pt.expand_dims(pm.Normal(\"country_fixed_effect_coefs\", 0, 10, shape=(len(set(data.country)))),axis=1)\n",
    "    country_fixed_effects = pm.Deterministic(\"country_fixed_effects\",pt.sum(country_fixed_effect_coefs*country_fixed_effect_matrix,axis=0))\n",
    "\n",
    "    country_grad_effect_coefs = pt.expand_dims(pm.Normal(\"country_grad_effect_coefs\", 0, 10, shape=(len(set(data.country)))),axis=1)\n",
    "    country_grad_effects = pm.Deterministic(\"grad_effects\",pt.sum(country_grad_effect_coefs*country_grad_effect_matrix,axis=0))\n",
    "    \n",
    "    tfp_prior = pm.Normal(\n",
    "        \"tfp_prior\", \n",
    "        (drought_tfp_coef * data.drought) + \n",
    "        country_fixed_effects +\n",
    "        year_fixed_effects + \n",
    "        country_grad_effects +\n",
    "        intercept\n",
    "    )\n",
    "\n",
    "    tfp_sd = pm.HalfNormal(\"tfp_sd\", 1)\n",
    "    tfp_posterior = pm.Normal(\"tfp_posterior\", tfp_prior, tfp_sd, observed = data.ln_TFP_change)\n",
    "\n",
    "    prior = pm.sample_prior_predictive()\n",
    "    trace = pm.sample(target_accept=.99, cores=4)\n",
    "    posterior = pm.sample_posterior_predictive(trace, extend_inferencedata=True)"
   ]
  },
  {
   "cell_type": "code",
   "execution_count": 64,
   "id": "adcfc28f-d701-4ceb-b1ea-a9ecebd1da70",
   "metadata": {},
   "outputs": [
    {
     "data": {
      "text/html": [
       "<div>\n",
       "<style scoped>\n",
       "    .dataframe tbody tr th:only-of-type {\n",
       "        vertical-align: middle;\n",
       "    }\n",
       "\n",
       "    .dataframe tbody tr th {\n",
       "        vertical-align: top;\n",
       "    }\n",
       "\n",
       "    .dataframe thead th {\n",
       "        text-align: right;\n",
       "    }\n",
       "</style>\n",
       "<table border=\"1\" class=\"dataframe\">\n",
       "  <thead>\n",
       "    <tr style=\"text-align: right;\">\n",
       "      <th></th>\n",
       "      <th>mean</th>\n",
       "      <th>sd</th>\n",
       "      <th>hdi_3%</th>\n",
       "      <th>hdi_97%</th>\n",
       "      <th>mcse_mean</th>\n",
       "      <th>mcse_sd</th>\n",
       "      <th>ess_bulk</th>\n",
       "      <th>ess_tail</th>\n",
       "      <th>r_hat</th>\n",
       "    </tr>\n",
       "  </thead>\n",
       "  <tbody>\n",
       "    <tr>\n",
       "      <th>drought_tfp_coef</th>\n",
       "      <td>-0.007</td>\n",
       "      <td>0.039</td>\n",
       "      <td>-0.078</td>\n",
       "      <td>0.066</td>\n",
       "      <td>0.001</td>\n",
       "      <td>0.001</td>\n",
       "      <td>823.0</td>\n",
       "      <td>1321.0</td>\n",
       "      <td>1.00</td>\n",
       "    </tr>\n",
       "    <tr>\n",
       "      <th>intercept</th>\n",
       "      <td>0.008</td>\n",
       "      <td>0.011</td>\n",
       "      <td>-0.014</td>\n",
       "      <td>0.027</td>\n",
       "      <td>0.000</td>\n",
       "      <td>0.000</td>\n",
       "      <td>1013.0</td>\n",
       "      <td>1444.0</td>\n",
       "      <td>1.00</td>\n",
       "    </tr>\n",
       "    <tr>\n",
       "      <th>tfp_sd</th>\n",
       "      <td>0.034</td>\n",
       "      <td>0.012</td>\n",
       "      <td>0.019</td>\n",
       "      <td>0.056</td>\n",
       "      <td>0.005</td>\n",
       "      <td>0.004</td>\n",
       "      <td>6.0</td>\n",
       "      <td>16.0</td>\n",
       "      <td>1.95</td>\n",
       "    </tr>\n",
       "  </tbody>\n",
       "</table>\n",
       "</div>"
      ],
      "text/plain": [
       "                   mean     sd  hdi_3%  hdi_97%  mcse_mean  mcse_sd  ess_bulk  \\\n",
       "drought_tfp_coef -0.007  0.039  -0.078    0.066      0.001    0.001     823.0   \n",
       "intercept         0.008  0.011  -0.014    0.027      0.000    0.000    1013.0   \n",
       "tfp_sd            0.034  0.012   0.019    0.056      0.005    0.004       6.0   \n",
       "\n",
       "                  ess_tail  r_hat  \n",
       "drought_tfp_coef    1321.0   1.00  \n",
       "intercept           1444.0   1.00  \n",
       "tfp_sd                16.0   1.95  "
      ]
     },
     "execution_count": 64,
     "metadata": {},
     "output_type": "execute_result"
    }
   ],
   "source": [
    "az.summary(trace, var_names=[\"drought_tfp_coef\", \"intercept\", \"tfp_sd\"])"
   ]
  },
  {
   "cell_type": "markdown",
   "id": "d8ce5797-2598-4787-8be1-b9c6fc1bb1b4",
   "metadata": {},
   "source": [
    "# create dataset"
   ]
  },
  {
   "cell_type": "code",
   "execution_count": 41,
   "id": "5bd27d48-a711-4a3b-9329-cc8880bba319",
   "metadata": {},
   "outputs": [],
   "source": [
    "integrated_data_dict = {\n",
    "    \"country\":[],\n",
    "    \"year\":[],\n",
    "    \"drought\":[],\n",
    "    \"extreme_temperature\":[],\n",
    "    \"flood\":[],\n",
    "    \"ln_GDP_change\":[],\n",
    "    \"ln_TFP_change\":[]\n",
    "}\n",
    "\n",
    "burke_data = pd.read_csv(\"../data/burke/data/input/GrowthClimateDataset.csv\")\n",
    "ortizbobea_data = pd.read_csv(\"../data/ortiz-bobea/data2/regdata_preferred_case.csv\")\n",
    "extreme_weather_data = pd.read_csv(\"../data/global_data/extreme_weather_events.csv\")\n",
    "\n",
    "all_countries = sorted((set(ortizbobea_data[\"ISO3\"]).union(set(burke_data[\"iso\"]))).intersection(set(extreme_weather_data[\"ISO\"])))\n",
    "all_years = sorted(set(ortizbobea_data[\"year\"]).union(set(burke_data[\"year\"])).union(set([int(year.split(\"-\")[0]) for year in extreme_weather_data[\"DisNo.\"]])))\n",
    "\n",
    "for index, country in enumerate(list(all_countries)):\n",
    "    for year in all_years:\n",
    "        burke_row = burke_data.loc[(burke_data[\"iso\"] == country) & (burke_data[\"year\"] == year)]\n",
    "        ob_row = ortizbobea_data.loc[(ortizbobea_data[\"ISO3\"] == country) & (ortizbobea_data[\"year\"] == year)]\n",
    "        ew_rows = extreme_weather_data.loc[(extreme_weather_data[\"DisNo.\"].str.startswith(str(year), na=False)) & (extreme_weather_data[\"ISO\"] == country)]\n",
    "        integrated_data_dict[\"country\"].append(country)\n",
    "        integrated_data_dict[\"year\"].append(year)\n",
    "        try:\n",
    "            integrated_data_dict[\"ln_TFP_change\"].append(ob_row[\"fd_log_tfp\"].item())\n",
    "        except ValueError:\n",
    "            integrated_data_dict[\"ln_TFP_change\"].append(np.NaN)\n",
    "        try:\n",
    "            integrated_data_dict[\"ln_GDP_change\"].append(burke_row[\"growthWDI\"].item())\n",
    "        except ValueError:\n",
    "            integrated_data_dict[\"ln_GDP_change\"].append(np.NaN)\n",
    "        for disaster_type in [\"Flood\",\"Drought\",\"Extreme temperature\"]:\n",
    "            if len(ew_rows) == 0:\n",
    "                integrated_data_dict[disaster_type.lower().replace(\" \",\"_\")].append(0)\n",
    "            else:\n",
    "                if any(ew_row[\"Disaster Type\"] == disaster_type for _, ew_row in ew_rows.iterrows()):\n",
    "                    integrated_data_dict[disaster_type.lower().replace(\" \",\"_\")].append(1)\n",
    "                else:\n",
    "                    integrated_data_dict[disaster_type.lower().replace(\" \",\"_\")].append(0)\n",
    "pd.DataFrame.from_dict(integrated_data_dict).to_csv(\"../data/processed/drought-agtfp-gdp-data.csv\", index=False)    "
   ]
  }
 ],
 "metadata": {
  "kernelspec": {
   "display_name": "Python 3 (ipykernel)",
   "language": "python",
   "name": "python3"
  },
  "language_info": {
   "codemirror_mode": {
    "name": "ipython",
    "version": 3
   },
   "file_extension": ".py",
   "mimetype": "text/x-python",
   "name": "python",
   "nbconvert_exporter": "python",
   "pygments_lexer": "ipython3",
   "version": "3.10.12"
  }
 },
 "nbformat": 4,
 "nbformat_minor": 5
}
