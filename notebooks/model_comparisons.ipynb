{
 "cells": [
  {
   "cell_type": "code",
   "execution_count": 1,
   "id": "5e2819f3-4d33-4f1f-80c3-25bba5845a8a",
   "metadata": {},
   "outputs": [
    {
     "data": {
      "text/html": [
       "\n",
       "            <div id=\"S6qf14\"></div>\n",
       "            <script type=\"text/javascript\" data-lets-plot-script=\"library\">\n",
       "                if(!window.letsPlotCallQueue) {\n",
       "                    window.letsPlotCallQueue = [];\n",
       "                }; \n",
       "                window.letsPlotCall = function(f) {\n",
       "                    window.letsPlotCallQueue.push(f);\n",
       "                };\n",
       "                (function() {\n",
       "                    var script = document.createElement(\"script\");\n",
       "                    script.type = \"text/javascript\";\n",
       "                    script.src = \"https://cdn.jsdelivr.net/gh/JetBrains/lets-plot@v4.3.3/js-package/distr/lets-plot.min.js\";\n",
       "                    script.onload = function() {\n",
       "                        window.letsPlotCall = function(f) {f();};\n",
       "                        window.letsPlotCallQueue.forEach(function(f) {f();});\n",
       "                        window.letsPlotCallQueue = [];\n",
       "                        \n",
       "                    };\n",
       "                    script.onerror = function(event) {\n",
       "                        window.letsPlotCall = function(f) {};    // noop\n",
       "                        window.letsPlotCallQueue = [];\n",
       "                        var div = document.createElement(\"div\");\n",
       "                        div.style.color = 'darkred';\n",
       "                        div.textContent = 'Error loading Lets-Plot JS';\n",
       "                        document.getElementById(\"S6qf14\").appendChild(div);\n",
       "                    };\n",
       "                    var e = document.getElementById(\"S6qf14\");\n",
       "                    e.appendChild(script);\n",
       "                })()\n",
       "            </script>\n",
       "            "
      ]
     },
     "metadata": {},
     "output_type": "display_data"
    },
    {
     "data": {
      "text/html": [
       "\n",
       "            <div id=\"Rxk4B9\"></div>\n",
       "            <script type=\"text/javascript\" data-lets-plot-script=\"library\">\n",
       "                if(!window.letsPlotCallQueue) {\n",
       "                    window.letsPlotCallQueue = [];\n",
       "                }; \n",
       "                window.letsPlotCall = function(f) {\n",
       "                    window.letsPlotCallQueue.push(f);\n",
       "                };\n",
       "                (function() {\n",
       "                    var script = document.createElement(\"script\");\n",
       "                    script.type = \"text/javascript\";\n",
       "                    script.src = \"https://cdn.jsdelivr.net/gh/JetBrains/lets-plot@v4.3.3/js-package/distr/lets-plot.min.js\";\n",
       "                    script.onload = function() {\n",
       "                        window.letsPlotCall = function(f) {f();};\n",
       "                        window.letsPlotCallQueue.forEach(function(f) {f();});\n",
       "                        window.letsPlotCallQueue = [];\n",
       "                        \n",
       "                    };\n",
       "                    script.onerror = function(event) {\n",
       "                        window.letsPlotCall = function(f) {};    // noop\n",
       "                        window.letsPlotCallQueue = [];\n",
       "                        var div = document.createElement(\"div\");\n",
       "                        div.style.color = 'darkred';\n",
       "                        div.textContent = 'Error loading Lets-Plot JS';\n",
       "                        document.getElementById(\"Rxk4B9\").appendChild(div);\n",
       "                    };\n",
       "                    var e = document.getElementById(\"Rxk4B9\");\n",
       "                    e.appendChild(script);\n",
       "                })()\n",
       "            </script>\n",
       "            "
      ]
     },
     "metadata": {},
     "output_type": "display_data"
    }
   ],
   "source": [
    "import csv\n",
    "import os\n",
    "import pandas as pd\n",
    "import numpy as np\n",
    "from sklearn.preprocessing import StandardScaler, MinMaxScaler, OrdinalEncoder\n",
    "import pickle as pkl\n",
    "import matplotlib.pyplot as plt\n",
    "import random\n",
    "import pyfixest as pf\n",
    "import statsmodels.api as sm"
   ]
  },
  {
   "cell_type": "code",
   "execution_count": 2,
   "id": "10b33db9-6932-4846-9c3e-5025660eb1a9",
   "metadata": {},
   "outputs": [],
   "source": [
    "data = pd.read_csv(\"../data/ortiz-bobea/data2/regdata_preferred_case_encoded_iso_id.csv\")"
   ]
  },
  {
   "cell_type": "code",
   "execution_count": 4,
   "id": "d2509d3d-33e5-4eea-9c5a-9a6561bd5590",
   "metadata": {},
   "outputs": [
    {
     "data": {
      "text/plain": [
       "Index(['Unnamed: 0.1', 'Unnamed: 0', 'ISO3', 'year', 'FAO.N', 'WDI.Code',\n",
       "       'Country', 'Region', 'Sub.Region', 'tfp', 'output', 'log_tfp',\n",
       "       'log_output', 'fd_log_tfp', 'fd_log_output', 'cum_log_fd_log_tfp',\n",
       "       'cum_log_fd_log_output', 'FAO', 'FAOregion', 'prcp', 'tmin', 'tmean',\n",
       "       'tmax', 'tmin_sq', 'tmin_cu', 'tmean_sq', 'tmean_cu', 'tmax_sq',\n",
       "       'tmax_cu', 'prcp_sq', 'prcp_cu', 'fd_prcp', 'fd_prcp_cu', 'fd_prcp_sq',\n",
       "       'fd_tmax', 'fd_tmax_cu', 'fd_tmax_sq', 'fd_tmean', 'fd_tmean_cu',\n",
       "       'fd_tmean_sq', 'fd_tmin', 'fd_tmin_cu', 'fd_tmin_sq', 'block', 'mean',\n",
       "       'weights', 'encoded_iso_id'],\n",
       "      dtype='object')"
      ]
     },
     "execution_count": 4,
     "metadata": {},
     "output_type": "execute_result"
    }
   ],
   "source": [
    "data.columns"
   ]
  },
  {
   "cell_type": "code",
   "execution_count": 47,
   "id": "dcd35a99-e462-4e60-a4d5-28a122efb3fc",
   "metadata": {},
   "outputs": [],
   "source": [
    "var_list = [\"tmean\",\"tmean_sq\",\"tmean_cu\",\"fd_tmean\",\"fd_tmean_sq\",\"fd_tmean_cu\",\"prcp\",\"prcp_sq\",\"prcp_cu\",\"fd_prcp\",\"fd_prcp_sq\",\"fd_prcp_cu\"]\n",
    "permutation_list = [\n",
    "    np.ones(len(var_list)),\n",
    "    [0,0,0,1,1,0,0,0,0,1,1,0],\n",
    "    [1,0,0,0,0,0,0,0,0,0,0,0],\n",
    "    [0,0,0,1,0,0,0,0,0,0,0,0],\n",
    "]\n"
   ]
  },
  {
   "cell_type": "code",
   "execution_count": 48,
   "id": "fdf2ecf3-a54c-491a-8069-c014b35dae57",
   "metadata": {},
   "outputs": [],
   "source": [
    "headers = []\n",
    "for var in var_list:\n",
    "    headers.append(var)\n",
    "headers.append(\"In-sample MSE\")\n",
    "with open(\"test_out.csv\", \"w\") as file_output:\n",
    "    writer = csv.writer(file_output)\n",
    "    writer.writerow(headers)\n",
    "    for permutation in permutation_list:\n",
    "        vars = \" + \".join([var for index, var in enumerate(var_list) if permutation[index] == 1])\n",
    "        regression = pf.feols(f\"fd_log_tfp ~ {vars} | ISO3 + year\", data=data)\n",
    "        yhat = regression.predict()\n",
    "        error = np.mean(np.square(yhat-data.fd_log_tfp))\n",
    "        res_row = []\n",
    "        for i in permutation:\n",
    "            res_row.append(i)\n",
    "        res_row.append(error)\n",
    "        writer.writerow(res_row)"
   ]
  },
  {
   "cell_type": "code",
   "execution_count": 37,
   "id": "1ba66254-90ad-4ac3-b3d5-7017b849b641",
   "metadata": {},
   "outputs": [
    {
     "data": {
      "text/html": [
       "<div>\n",
       "<style scoped>\n",
       "    .dataframe tbody tr th:only-of-type {\n",
       "        vertical-align: middle;\n",
       "    }\n",
       "\n",
       "    .dataframe tbody tr th {\n",
       "        vertical-align: top;\n",
       "    }\n",
       "\n",
       "    .dataframe thead th {\n",
       "        text-align: right;\n",
       "    }\n",
       "</style>\n",
       "<table border=\"1\" class=\"dataframe\">\n",
       "  <thead>\n",
       "    <tr style=\"text-align: right;\">\n",
       "      <th></th>\n",
       "      <th>Estimate</th>\n",
       "      <th>Std. Error</th>\n",
       "      <th>t value</th>\n",
       "      <th>Pr(&gt;|t|)</th>\n",
       "      <th>2.5%</th>\n",
       "      <th>97.5%</th>\n",
       "    </tr>\n",
       "    <tr>\n",
       "      <th>Coefficient</th>\n",
       "      <th></th>\n",
       "      <th></th>\n",
       "      <th></th>\n",
       "      <th></th>\n",
       "      <th></th>\n",
       "      <th></th>\n",
       "    </tr>\n",
       "  </thead>\n",
       "  <tbody>\n",
       "    <tr>\n",
       "      <th>fd_tmean</th>\n",
       "      <td>-6.475999e-03</td>\n",
       "      <td>9.191869e-03</td>\n",
       "      <td>-0.704536</td>\n",
       "      <td>0.482058</td>\n",
       "      <td>-2.462014e-02</td>\n",
       "      <td>1.166814e-02</td>\n",
       "    </tr>\n",
       "    <tr>\n",
       "      <th>fd_tmean_sq</th>\n",
       "      <td>-4.752681e-05</td>\n",
       "      <td>2.257485e-04</td>\n",
       "      <td>-0.210530</td>\n",
       "      <td>0.833505</td>\n",
       "      <td>-4.931395e-04</td>\n",
       "      <td>3.980859e-04</td>\n",
       "    </tr>\n",
       "    <tr>\n",
       "      <th>fd_prcp</th>\n",
       "      <td>1.816850e-04</td>\n",
       "      <td>5.712337e-05</td>\n",
       "      <td>3.180572</td>\n",
       "      <td>0.001746</td>\n",
       "      <td>6.892724e-05</td>\n",
       "      <td>2.944428e-04</td>\n",
       "    </tr>\n",
       "    <tr>\n",
       "      <th>fd_prcp_sq</th>\n",
       "      <td>-1.818987e-07</td>\n",
       "      <td>5.850870e-08</td>\n",
       "      <td>-3.108918</td>\n",
       "      <td>0.002200</td>\n",
       "      <td>-2.973910e-07</td>\n",
       "      <td>-6.640643e-08</td>\n",
       "    </tr>\n",
       "  </tbody>\n",
       "</table>\n",
       "</div>"
      ],
      "text/plain": [
       "                 Estimate    Std. Error   t value  Pr(>|t|)          2.5%  \\\n",
       "Coefficient                                                                 \n",
       "fd_tmean    -6.475999e-03  9.191869e-03 -0.704536  0.482058 -2.462014e-02   \n",
       "fd_tmean_sq -4.752681e-05  2.257485e-04 -0.210530  0.833505 -4.931395e-04   \n",
       "fd_prcp      1.816850e-04  5.712337e-05  3.180572  0.001746  6.892724e-05   \n",
       "fd_prcp_sq  -1.818987e-07  5.850870e-08 -3.108918  0.002200 -2.973910e-07   \n",
       "\n",
       "                    97.5%  \n",
       "Coefficient                \n",
       "fd_tmean     1.166814e-02  \n",
       "fd_tmean_sq  3.980859e-04  \n",
       "fd_prcp      2.944428e-04  \n",
       "fd_prcp_sq  -6.640643e-08  "
      ]
     },
     "execution_count": 37,
     "metadata": {},
     "output_type": "execute_result"
    }
   ],
   "source": [
    "regression.tidy()"
   ]
  },
  {
   "cell_type": "code",
   "execution_count": 38,
   "id": "7c403e64-f7e4-4b44-800a-cb06b8643853",
   "metadata": {},
   "outputs": [
    {
     "name": "stdout",
     "output_type": "stream",
     "text": [
      "###\n",
      "\n",
      "Estimation:  OLS\n",
      "Dep. var.: fd_log_tfp, Fixed effects: ISO3+year\n",
      "Inference:  CRV1\n",
      "Observations:  9255\n",
      "\n",
      "| Coefficient   |   Estimate |   Std. Error |   t value |   Pr(>|t|) |   2.5% |   97.5% |\n",
      "|:--------------|-----------:|-------------:|----------:|-----------:|-------:|--------:|\n",
      "| fd_tmean      |     -0.006 |        0.009 |    -0.705 |      0.482 | -0.025 |   0.012 |\n",
      "| fd_tmean_sq   |     -0.000 |        0.000 |    -0.211 |      0.834 | -0.000 |   0.000 |\n",
      "| fd_prcp       |      0.000 |        0.000 |     3.181 |      0.002 |  0.000 |   0.000 |\n",
      "| fd_prcp_sq    |     -0.000 |        0.000 |    -3.109 |      0.002 | -0.000 |  -0.000 |\n",
      "---\n",
      "RMSE: 0.082 R2: 0.04 R2 Within: 0.01 \n"
     ]
    }
   ],
   "source": [
    "regression.summary()"
   ]
  },
  {
   "cell_type": "code",
   "execution_count": 111,
   "id": "0acc4e6d-8477-4b73-b7ac-ddfcb3dfc014",
   "metadata": {},
   "outputs": [],
   "source": [
    "centered_data = pf.estimation.demean(\n",
    "    np.array(data[[\"fd_tmean\", \"fd_tmean_sq\", \"fd_prcp\", \"fd_prcp_sq\"]]), \n",
    "    np.array(data[[\"encoded_iso_id\",\"year\"]]), \n",
    "    np.ones(len(data))\n",
    ")"
   ]
  },
  {
   "cell_type": "code",
   "execution_count": 118,
   "id": "4367dd5c-63d3-46f7-905f-5b0ca0439790",
   "metadata": {},
   "outputs": [
    {
     "name": "stdout",
     "output_type": "stream",
     "text": [
      "[-6.47599918e-03 -4.75268083e-05  1.81684996e-04 -1.81898741e-07]\n"
     ]
    }
   ],
   "source": [
    "x = centered_data[0]\n",
    "y = np.array(data.fd_log_tfp)\n",
    "model = sm.OLS(y,x)\n",
    "results = model.fit()\n",
    "print(results.params)"
   ]
  },
  {
   "cell_type": "code",
   "execution_count": 137,
   "id": "787af5f8-11f1-4649-86ba-1412cc68b5a1",
   "metadata": {},
   "outputs": [
    {
     "data": {
      "text/plain": [
       "0.006735429878711787"
      ]
     },
     "execution_count": 137,
     "metadata": {},
     "output_type": "execute_result"
    }
   ],
   "source": [
    "# predict with fixed effects\n",
    "yhat = regression.predict()\n",
    "error = np.square(yhat-data.fd_log_tfp)\n",
    "np.mean(error)"
   ]
  },
  {
   "cell_type": "code",
   "execution_count": 140,
   "id": "67169fc3-45af-4fd3-804b-7c0a3d3d0601",
   "metadata": {},
   "outputs": [
    {
     "data": {
      "text/plain": [
       "0.006980271648325952"
      ]
     },
     "execution_count": 140,
     "metadata": {},
     "output_type": "execute_result"
    }
   ],
   "source": [
    "# predict without fixed effects\n",
    "yhat_ = results.predict()\n",
    "error = np.square(yhat_-data.fd_log_tfp)\n",
    "np.mean(error)"
   ]
  }
 ],
 "metadata": {
  "kernelspec": {
   "display_name": "Python 3 (ipykernel)",
   "language": "python",
   "name": "python3"
  },
  "language_info": {
   "codemirror_mode": {
    "name": "ipython",
    "version": 3
   },
   "file_extension": ".py",
   "mimetype": "text/x-python",
   "name": "python",
   "nbconvert_exporter": "python",
   "pygments_lexer": "ipython3",
   "version": "3.10.12"
  }
 },
 "nbformat": 4,
 "nbformat_minor": 5
}
