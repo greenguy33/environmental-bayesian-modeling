{
 "cells": [
  {
   "cell_type": "code",
   "execution_count": 2,
   "id": "6cf293a1-86bf-4d92-8ab7-0cfb26f2b8ca",
   "metadata": {},
   "outputs": [],
   "source": [
    "import statistics\n",
    "directory_path = \"../../projectorion/orion/knowledge_graph/stardog/bootstrap_data/rdf-data/synthetic_environmental_knowledge_graph\""
   ]
  },
  {
   "cell_type": "code",
   "execution_count": 3,
   "id": "f77124c7-51e1-4048-97db-fed8176c1a2c",
   "metadata": {},
   "outputs": [],
   "source": [
    "# add synthetic co2 data to knowledge graph\n",
    "\n",
    "import csv\n",
    "import uuid\n",
    "\n",
    "filenames = [\"co2_emissions\", \"deforestation\", \"sea_level\", \"global_warming\", \"biodiversity\", \"air_pollution\"]\n",
    "phenomena = [\"Co2Emissions\",\"Deforestation\",\"SeaLevelRise\",\"GlobalWarming\",\"BiodiversityLoss\",\"AirPollution\"]\n",
    "measurement = [\"Co2Measurement\",\"ForestAreaMeasurement\",\"SeaLevelMeasurement\",\"GlobalTemperatureMeasurement\",\"BiodiversityMeasurement\",\"AirPollutionMeasurement\"]\n",
    "#intercepts = [1000000,10000,100,1,-10000,-1000000]\n",
    "#slopes = [-10,-1,1,5,10,20]\n",
    "intercepts = [-15,-10,1,5,10,15]\n",
    "slopes = [-5,-3,-1,1,3,5]\n",
    "\n",
    "data = {}\n",
    "\n",
    "for index, intercept in enumerate(intercepts):\n",
    "    data[measurement[index]] = []\n",
    "    rdf = \"\"\n",
    "    for year in range(0,1000):\n",
    "        value = slopes[index]*year + intercept\n",
    "        data[measurement[index]].append(value)\n",
    "\n",
    "        meas_uuid = uuid.uuid4()\n",
    "        rdf += f\"env:{year} rdf:type env:Year . \\n\"\n",
    "        rdf += f\"env:{meas_uuid} rdf:type env:{measurement[index]} . \\n\"\n",
    "        rdf += f\"env:{meas_uuid} env:measuresPhenomenon env:{phenomena[index]} . \\n\"\n",
    "        rdf += f\"env:{meas_uuid} env:measurementFromYear env:{year} . \\n\"\n",
    "        rdf += f\"env:{meas_uuid} env:measurementHasValue {value} . \\n\"\n",
    "        \n",
    "    with open(f\"{directory_path}/{filenames[index]}.ttl\", \"w\") as write:\n",
    "        write.write(rdf)"
   ]
  },
  {
   "cell_type": "code",
   "execution_count": 4,
   "id": "99e1198c-7d74-4958-97d4-e084c1a2b7cc",
   "metadata": {},
   "outputs": [
    {
     "name": "stdout",
     "output_type": "stream",
     "text": [
      "Co2Measurement\n",
      "mean -2512.5\n",
      "sd 1444.097180478747\n",
      "var 2085416.6666666667\n",
      "max -15\n",
      "min -5010\n",
      "ForestAreaMeasurement\n",
      "mean -1508.5\n",
      "sd 866.4583082872482\n",
      "var 750750.0\n",
      "max -10\n",
      "min -3007\n",
      "SeaLevelMeasurement\n",
      "mean -498.5\n",
      "sd 288.8194360957494\n",
      "var 83416.66666666667\n",
      "max 1\n",
      "min -998\n",
      "GlobalTemperatureMeasurement\n",
      "mean 504.5\n",
      "sd 288.8194360957494\n",
      "var 83416.66666666667\n",
      "max 1004\n",
      "min 5\n",
      "BiodiversityMeasurement\n",
      "mean 1508.5\n",
      "sd 866.4583082872482\n",
      "var 750750.0\n",
      "max 3007\n",
      "min 10\n",
      "AirPollutionMeasurement\n",
      "mean 2512.5\n",
      "sd 1444.097180478747\n",
      "var 2085416.6666666667\n",
      "max 5010\n",
      "min 15\n"
     ]
    }
   ],
   "source": [
    "import statistics\n",
    "for key, key_data in data.items():\n",
    "    print(key)\n",
    "    print(\"mean\", statistics.mean(key_data))\n",
    "    print(\"sd\", statistics.stdev(key_data))\n",
    "    print(\"var\", statistics.variance(key_data))\n",
    "    print(\"max\", max(key_data))\n",
    "    print(\"min\", min(key_data))"
   ]
  },
  {
   "cell_type": "code",
   "execution_count": null,
   "id": "0d3ec14e-be2b-42e3-8689-955c8d0b2a5e",
   "metadata": {},
   "outputs": [],
   "source": []
  }
 ],
 "metadata": {
  "kernelspec": {
   "display_name": "Python 3 (ipykernel)",
   "language": "python",
   "name": "python3"
  },
  "language_info": {
   "codemirror_mode": {
    "name": "ipython",
    "version": 3
   },
   "file_extension": ".py",
   "mimetype": "text/x-python",
   "name": "python",
   "nbconvert_exporter": "python",
   "pygments_lexer": "ipython3",
   "version": "3.9.12"
  }
 },
 "nbformat": 4,
 "nbformat_minor": 5
}
